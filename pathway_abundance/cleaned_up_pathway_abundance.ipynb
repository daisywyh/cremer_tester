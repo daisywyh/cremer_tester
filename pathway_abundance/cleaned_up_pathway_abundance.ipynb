{
 "cells": [
  {
   "cell_type": "markdown",
   "metadata": {},
   "source": [
    "# PATHWAY ABUNDANCE AND FIGURE PRODUCTION\n",
    "\n",
    "This file can be split into two parts: data manipuluation, then figure creation from said data. \n",
    "\n",
    "This pipeline was last edited by Yu Han Daisy Wang on 28 August 2023."
   ]
  },
  {
   "cell_type": "markdown",
   "metadata": {},
   "source": [
    "## step 0: load all relevant/needed packages"
   ]
  },
  {
   "cell_type": "code",
   "execution_count": 1,
   "metadata": {},
   "outputs": [],
   "source": [
    "import seaborn as sns\n",
    "import matplotlib as mpl\n",
    "import matplotlib.pyplot as plt\n",
    "import pandas as pd\n",
    "import numpy as np\n",
    "import wesanderson\n",
    "from matplotlib import font_manager\n",
    "import scipy as sp"
   ]
  },
  {
   "cell_type": "markdown",
   "metadata": {},
   "source": [
    "## DATA MANIPULATION"
   ]
  },
  {
   "cell_type": "markdown",
   "metadata": {},
   "source": [
    "### IF YOU'VE **ALREADY RAN** THIS PIPELINE AND HAVE DATA THAT'S ALREADY CLEANED UP, START HERE\n",
    "Use the following bit to load all of your data that's already been cleaned up"
   ]
  },
  {
   "cell_type": "markdown",
   "metadata": {},
   "source": [
    "### IF YOU **HAVEN'T ALREADY RAN** THIS PIPELINE/YOU WANT TO CHANGE SOMETHING ABOUT THE DATA PROCESSING, START HERE\n",
    "This starts the data processing from scratch!"
   ]
  },
  {
   "cell_type": "markdown",
   "metadata": {},
   "source": [
    "#### load all necessary data for starting from scratch"
   ]
  },
  {
   "cell_type": "code",
   "execution_count": 2,
   "metadata": {},
   "outputs": [],
   "source": [
    "# bowtie hit summaries for propionate\n",
    "compiled_bt_hit_summaries_allpathways = pd.read_csv(\"compiled_bt_hit_summaries_allpathways.csv\")\n",
    "\n",
    "# gene lengths \n",
    "allpathways_gene_catalogue_seqlengths = pd.read_csv(\"allpathways_gene_catalogue_seqlengths.csv\").set_index(\"gene\")\n",
    "\n",
    "# gene information\n",
    "allpathways_gene_info = pd.read_csv(\"allpathways_genesInCatalogue_long.csv\")\n",
    "allpathways_gene_info = allpathways_gene_info.drop(allpathways_gene_info.columns[0], axis=1).set_index(\"strain_gene\")"
   ]
  },
  {
   "cell_type": "markdown",
   "metadata": {},
   "source": [
    "#### gene length correction (new, using formula proposed by RC, step 1 of it)\n",
    "\n",
    "`gene_length_correction_new` performs the first half of the gene length correction process. Specifically, it does $hits\\;of\\;gene \\cdot length(gene)$. \n",
    "\n",
    "For reference, the full formula for our new gene length correction method is given as follows: $$\\frac{hits\\;of\\;gene \\cdot length(gene)}{hits\\;of\\;rplB \\cdot length(rplB)}$$"
   ]
  },
  {
   "cell_type": "code",
   "execution_count": 3,
   "metadata": {},
   "outputs": [],
   "source": [
    "def gene_length_correction_new(gene_catalogue_seqlengths, compiled_bt_hit_summaries):\n",
    "\n",
    "    gene_length_df = gene_catalogue_seqlengths\n",
    "\n",
    "    df = compiled_bt_hit_summaries.drop([\"pathway\"], axis=1).set_index(\"read_accession\")\n",
    "\n",
    "    # new = df.copy()\n",
    "\n",
    "    # first replace the values in new with the gene length of that gene\n",
    "    for gene in compiled_bt_hit_summaries:\n",
    "        \n",
    "        if gene in gene_length_df.index:\n",
    "        \n",
    "            gene_length = gene_length_df.loc[gene].at[\"length\"]\n",
    "\n",
    "            df[gene] = [gene_length] * len(df)\n",
    "\n",
    "    # equivalent to hits of gene * length(gene)\n",
    "    df = df.multiply(df)\n",
    "\n",
    "    return df"
   ]
  },
  {
   "cell_type": "markdown",
   "metadata": {},
   "source": [
    "### running the code for gene length correction"
   ]
  },
  {
   "cell_type": "code",
   "execution_count": 4,
   "metadata": {},
   "outputs": [],
   "source": [
    "compiled_bt_hit_summaries_all_pathways_length_corrected = gene_length_correction_new(allpathways_gene_catalogue_seqlengths, compiled_bt_hit_summaries_allpathways)"
   ]
  },
  {
   "cell_type": "markdown",
   "metadata": {},
   "source": [
    "### useful setup for calculating pathway abundances\n",
    "\n",
    "There's not much being done here, just some pure setup stuff that can be useful later."
   ]
  },
  {
   "cell_type": "code",
   "execution_count": 6,
   "metadata": {},
   "outputs": [],
   "source": [
    "abbreviations_dict = {\n",
    "    \"acetylCoA_buk\": \"Ace (buk)\",\n",
    "    \"acetylCoA_but\": \"Ace (but)\",\n",
    "    \"aminobutyrate_buk\": \"4-Ami (buk)\",\n",
    "    \"aminobutyrate_but\": \"4-Ami (but)\",\n",
    "    \"glutarate_buk\": \"Glu (buk)\",\n",
    "    \"glutarate_but\": \"Glu (but)\",\n",
    "    \"lysine\": \"Lys\",\n",
    "    \"sodium-pumping decarboxylase\": \"SP\",\n",
    "    \"Wood-Werkman Cycle\": \"WWC\",\n",
    "    \"acrylate pathway\": \"Acr\",\n",
    "    \"propanediol pathway\": \"Pro\"\n",
    "}\n",
    "\n",
    "pathway_length_dict = {\n",
    "    \"Ace (buk)\": 6,\n",
    "    \"Ace (but)\": 5,\n",
    "    \"4-Ami (buk)\": 6,\n",
    "    \"4-Ami (but)\": 5,\n",
    "    \"Glu (buk)\": 6,\n",
    "    \"Glu (but)\": 5,\n",
    "    \"Lys\": 7,\n",
    "    \"SP\": 4,\n",
    "    \"WWC\": 4,\n",
    "    \"Acr\": 3,\n",
    "    \"Pro\": 5\n",
    "}"
   ]
  },
  {
   "cell_type": "markdown",
   "metadata": {},
   "source": [
    "### calculating pathway abundances"
   ]
  },
  {
   "cell_type": "markdown",
   "metadata": {},
   "source": [
    "The function `add_genes_in_catalogue` merges information about genes onto the hit table."
   ]
  },
  {
   "cell_type": "code",
   "execution_count": 7,
   "metadata": {},
   "outputs": [],
   "source": [
    "def add_genes_in_catalogue(hit_table, gene_info, gene_catalogue_seqlengths):\n",
    "\n",
    "    temp = hit_table.transpose()\n",
    "\n",
    "    # this merges the information about the genes into the hit table\n",
    "    temp = temp.merge(gene_info, how=\"left\", left_index=True, right_index=True)\n",
    "\n",
    "    # everything after this is purely cosmetic, it just moves the columns strain, pathway, \n",
    "    # gene, strain_pathway, and length to the front \n",
    "    strain = temp.pop(\"strain\")\n",
    "    temp.insert(0, strain.name, strain)\n",
    "\n",
    "    pathway = temp.pop(\"pathway\")\n",
    "    temp.insert(1, pathway.name, pathway)\n",
    "\n",
    "    gene = temp.pop(\"gene\")\n",
    "    temp.insert(2, gene.name, gene)\n",
    "\n",
    "    strain_pathway = temp.pop(\"strain_pathway\")\n",
    "    temp.insert(3, strain_pathway.name, strain_pathway)\n",
    "\n",
    "    temp = temp.merge(gene_catalogue_seqlengths, how=\"left\", left_index=True, right_index=True)\n",
    "\n",
    "    length = temp.pop(\"length\")\n",
    "    temp.insert(4, length.name, length)\n",
    "\n",
    "    return temp"
   ]
  },
  {
   "cell_type": "code",
   "execution_count": 8,
   "metadata": {},
   "outputs": [],
   "source": [
    "final_hit_table = add_genes_in_catalogue(compiled_bt_hit_summaries_all_pathways_length_corrected, allpathways_gene_info, allpathways_gene_catalogue_seqlengths)"
   ]
  },
  {
   "cell_type": "markdown",
   "metadata": {},
   "source": [
    "## part 2 of length correction: dividing by number of hits for rplB"
   ]
  },
  {
   "cell_type": "code",
   "execution_count": 12,
   "metadata": {},
   "outputs": [],
   "source": [
    "def length_correction_denominator(hit_table):\n",
    "\n",
    "    grouped = hit_table.groupby(\"strain_pathway\").sum().drop([\"strain\", \"pathway\", \"gene\", \"length\"], axis=1)\n",
    "\n",
    "    rplB_sum = grouped.loc[\"housekeeping\"]\n",
    "\n",
    "    not_samples = [\"strain\", \"pathway\", \"gene\", \"strain_pathway\", \"length\"]\n",
    "\n",
    "    new = hit_table.copy\n",
    "\n",
    "    for read in grouped:\n",
    "\n",
    "        hit_table[read] /= rplB_sum[read]\n",
    "\n",
    "    return hit_table"
   ]
  },
  {
   "cell_type": "code",
   "execution_count": 13,
   "metadata": {},
   "outputs": [],
   "source": [
    "final_hit_table = length_correction_denominator(final_hit_table)"
   ]
  },
  {
   "cell_type": "markdown",
   "metadata": {},
   "source": [
    "## this step is to normalise by proportion for the unknown samples\n",
    "\n",
    "The formula for this normalisation is given as follows. Let $x$ be the amount of the mixed sample, $S_n$ be the known we are trying to approximate, and $S_i$ be the $i$-th known sample that is in the mixed sample. Let there be $n$ known samples in the mixed sample. As such, the total amount of $S_n$ can be given as follows:\n",
    "\n",
    "$$actual\\;amount\\;of\\;S_n = \\frac{S_n}{\\sum_{i=1}^{n} S_i} \\cdot x$$\n",
    "\n",
    "A function to perform this normalisation is given below."
   ]
  },
  {
   "cell_type": "code",
   "execution_count": 15,
   "metadata": {},
   "outputs": [],
   "source": [
    "def normalise_unknown(df):\n",
    "\n",
    "    # this function does not operate in place. instead, it returns a modified copy of the original dataframe.\n",
    "    new = df.copy()\n",
    "\n",
    "    # This dictionary stores all of the names of the pathways that are unclear\n",
    "    unknown_samples = {\n",
    "        \"acetylCoA_buk or glutarate_buk\": [\"acetylCoA_buk\", \"glutarate_buk\"],\n",
    "        \"aminobutyrate_but or acetylCoA_but\": [\"aminobutyrate_but\", \"acetylCoA_but\"],\n",
    "        \"acetylCoA_buk or lysine\": [\"acetylCoA_buk\", \"lysine\"],\n",
    "        \"acetylCoA_but or glutarate_but\": [\"acetylCoA_but\", \"glutarate_but\"],\n",
    "        \"acetylCoA_but or glutarate_but or lysine\": [\"acetylCoA_but\", \"glutarate_but\", \"lysine\"],\n",
    "        \"acetylCoA_but or lysine\": [\"acetylCoA_but\", \"lysine\"],\n",
    "        \"aminobutyrate_buk or acetylCoA_buk\": [\"aminobutyrate_buk\", \"acetylCoA_buk\"],\n",
    "        \"aminobutyrate_buk or acetylCoA_buk or lysine\": [\"aminobutyrate_buk\", \"acetylCoA_buk\", \"lysine\"],\n",
    "        \"aminobutyrate_buk or lysine\": [\"aminobutyrate_buk\", \"lysine\"],\n",
    "        \"aminobutyrate_but or acetylCoA_but\": [\"aminobutyrate_but\", \"acetylCoA_but\"],\n",
    "        \"aminobutyrate_but or acetylCoA_but or glutarate_but\": [\"aminobutyrate_but\", \"acetylCoA_but\", \"glutarate_but\"]\n",
    "    }\n",
    "\n",
    "    # for each sample, loop through each pathway in the sample\n",
    "    for sample in df:\n",
    "\n",
    "        for pathway in list(df.index):\n",
    "\n",
    "            # this is my way of finding all the pathways that are ambigious\n",
    "            if \" or \" in pathway:\n",
    "\n",
    "                # this just gets the raw number of hits for the ambigious sample\n",
    "                unknown_proportion = df.loc[pathway].at[sample]\n",
    "\n",
    "                # if the raw number of hits == 0, exit this loop\n",
    "                # if the loop is not exited, this will cause a divide by 0 error later\n",
    "                if unknown_proportion == 0: break\n",
    "\n",
    "                # setup for the rest of the calculations\n",
    "                components_list = unknown_samples[pathway]\n",
    "                proportion_dict = {}\n",
    "                denominator = 0\n",
    "                \n",
    "                # for every component in the unkonwn samples\n",
    "                # if it's != 0, add add it to the denominator\n",
    "                for component in components_list:\n",
    "\n",
    "                    if df.loc[component].at[sample] != 0:\n",
    "\n",
    "                        proportion_dict[component] = df.loc[component].at[sample]\n",
    "                        denominator += proportion_dict[component]\n",
    "\n",
    "                # if there ends up being more than one type of sample in the unknown mixture\n",
    "                # actually do the calculations\n",
    "                # if there's only one, don't bother\n",
    "                if len(proportion_dict) > 1:\n",
    "\n",
    "                    for component in components_list:\n",
    "\n",
    "                        new.loc[component].at[sample] = proportion_dict[component] + ((proportion_dict[component] / denominator) * unknown_proportion)\n",
    "\n",
    "    new = new.drop(list(unknown_samples.keys()))\n",
    "\n",
    "    return new"
   ]
  },
  {
   "cell_type": "markdown",
   "metadata": {},
   "source": [
    "Now, actually implement the `normalisation_unknown` function on actual data\n",
    "\n",
    "First, perform some preprocessing of the data"
   ]
  },
  {
   "cell_type": "code",
   "execution_count": 16,
   "metadata": {},
   "outputs": [],
   "source": [
    "overall_pathway_group = final_hit_table.groupby([\"strain_pathway\"]).sum()\n",
    "\n",
    "overall_pathway_group = overall_pathway_group.drop([\"strain\", \"pathway\", \"gene\", \"length\"], axis=1).drop([\"housekeeping\"], axis=0)"
   ]
  },
  {
   "cell_type": "markdown",
   "metadata": {},
   "source": [
    "Then, actually implement everything. The code for parsing out the unknown proportions is not very well written, so this section might take a long time to run, as long as just under 10 minutes. For context, the last time I tried to run this chunk, it took me 7 mins and 31 seconds."
   ]
  },
  {
   "cell_type": "code",
   "execution_count": 18,
   "metadata": {},
   "outputs": [],
   "source": [
    "noramlised_unknown_overall_pathway_group = normalise_unknown(overall_pathway_group)\n",
    "\n",
    "# the next two steps are purely for aesthetic reasons\n",
    "# it just orders it so that the propionate and butyrate pathways are together\n",
    "noramlised_unknown_overall_pathway_group = noramlised_unknown_overall_pathway_group.transpose()\n",
    "noramlised_unknown_overall_pathway_group = noramlised_unknown_overall_pathway_group.reindex(columns= [\"acetylCoA_buk\", \"acetylCoA_but\", \"aminobutyrate_buk\", \"aminobutyrate_but\", \"glutarate_buk\", \"glutarate_but\", \"lysine\", \"sodium-pumping decarboxylase\", \"Wood-Werkman Cycle\", \"acrylate pathway\", \"propanediol pathway\"])"
   ]
  },
  {
   "cell_type": "markdown",
   "metadata": {},
   "source": [
    "### fixing column names to the abbreviations\n",
    "\n",
    "this next step just changes things from the raw names to the abbreviations established earlier. It does this by looping through the `abbreviations_dict` established earlier. "
   ]
  },
  {
   "cell_type": "code",
   "execution_count": 30,
   "metadata": {},
   "outputs": [
    {
     "data": {
      "text/html": [
       "<div>\n",
       "<style scoped>\n",
       "    .dataframe tbody tr th:only-of-type {\n",
       "        vertical-align: middle;\n",
       "    }\n",
       "\n",
       "    .dataframe tbody tr th {\n",
       "        vertical-align: top;\n",
       "    }\n",
       "\n",
       "    .dataframe thead th {\n",
       "        text-align: right;\n",
       "    }\n",
       "</style>\n",
       "<table border=\"1\" class=\"dataframe\">\n",
       "  <thead>\n",
       "    <tr style=\"text-align: right;\">\n",
       "      <th>strain_pathway</th>\n",
       "      <th>Ace (buk)</th>\n",
       "      <th>Ace (but)</th>\n",
       "      <th>4-Ami (buk)</th>\n",
       "      <th>4-Ami (but)</th>\n",
       "      <th>Glu (buk)</th>\n",
       "      <th>Glu (but)</th>\n",
       "      <th>Lys</th>\n",
       "      <th>SP</th>\n",
       "      <th>WWC</th>\n",
       "      <th>Acr</th>\n",
       "      <th>Pro</th>\n",
       "    </tr>\n",
       "  </thead>\n",
       "  <tbody>\n",
       "    <tr>\n",
       "      <th>ERR4330026</th>\n",
       "      <td>0.509642</td>\n",
       "      <td>0.603607</td>\n",
       "      <td>0.066172</td>\n",
       "      <td>0.050155</td>\n",
       "      <td>0.025137</td>\n",
       "      <td>0.328606</td>\n",
       "      <td>0.386564</td>\n",
       "      <td>0.136062</td>\n",
       "      <td>0.626074</td>\n",
       "      <td>0.081203</td>\n",
       "      <td>0.122476</td>\n",
       "    </tr>\n",
       "    <tr>\n",
       "      <th>ERR4330027</th>\n",
       "      <td>0.509642</td>\n",
       "      <td>0.603607</td>\n",
       "      <td>0.066172</td>\n",
       "      <td>0.050155</td>\n",
       "      <td>0.025137</td>\n",
       "      <td>0.328606</td>\n",
       "      <td>0.386564</td>\n",
       "      <td>0.136062</td>\n",
       "      <td>0.626074</td>\n",
       "      <td>0.081203</td>\n",
       "      <td>0.122476</td>\n",
       "    </tr>\n",
       "    <tr>\n",
       "      <th>ERR4330028</th>\n",
       "      <td>0.509642</td>\n",
       "      <td>0.603607</td>\n",
       "      <td>0.066172</td>\n",
       "      <td>0.050155</td>\n",
       "      <td>0.025137</td>\n",
       "      <td>0.328606</td>\n",
       "      <td>0.386564</td>\n",
       "      <td>0.136062</td>\n",
       "      <td>0.626074</td>\n",
       "      <td>0.081203</td>\n",
       "      <td>0.122476</td>\n",
       "    </tr>\n",
       "    <tr>\n",
       "      <th>ERR4330029</th>\n",
       "      <td>0.509642</td>\n",
       "      <td>0.603607</td>\n",
       "      <td>0.066172</td>\n",
       "      <td>0.050155</td>\n",
       "      <td>0.025137</td>\n",
       "      <td>0.328606</td>\n",
       "      <td>0.386564</td>\n",
       "      <td>0.136062</td>\n",
       "      <td>0.626074</td>\n",
       "      <td>0.081203</td>\n",
       "      <td>0.122476</td>\n",
       "    </tr>\n",
       "    <tr>\n",
       "      <th>ERR4330030</th>\n",
       "      <td>0.509642</td>\n",
       "      <td>0.603607</td>\n",
       "      <td>0.066172</td>\n",
       "      <td>0.050155</td>\n",
       "      <td>0.025137</td>\n",
       "      <td>0.328606</td>\n",
       "      <td>0.386564</td>\n",
       "      <td>0.136062</td>\n",
       "      <td>0.626074</td>\n",
       "      <td>0.081203</td>\n",
       "      <td>0.122476</td>\n",
       "    </tr>\n",
       "    <tr>\n",
       "      <th>...</th>\n",
       "      <td>...</td>\n",
       "      <td>...</td>\n",
       "      <td>...</td>\n",
       "      <td>...</td>\n",
       "      <td>...</td>\n",
       "      <td>...</td>\n",
       "      <td>...</td>\n",
       "      <td>...</td>\n",
       "      <td>...</td>\n",
       "      <td>...</td>\n",
       "      <td>...</td>\n",
       "    </tr>\n",
       "    <tr>\n",
       "      <th>SRR5983481</th>\n",
       "      <td>0.509642</td>\n",
       "      <td>0.603607</td>\n",
       "      <td>0.066172</td>\n",
       "      <td>0.050155</td>\n",
       "      <td>0.025137</td>\n",
       "      <td>0.328606</td>\n",
       "      <td>0.386564</td>\n",
       "      <td>0.136062</td>\n",
       "      <td>0.626074</td>\n",
       "      <td>0.081203</td>\n",
       "      <td>0.122476</td>\n",
       "    </tr>\n",
       "    <tr>\n",
       "      <th>SRR5983482</th>\n",
       "      <td>0.509642</td>\n",
       "      <td>0.603607</td>\n",
       "      <td>0.066172</td>\n",
       "      <td>0.050155</td>\n",
       "      <td>0.025137</td>\n",
       "      <td>0.328606</td>\n",
       "      <td>0.386563</td>\n",
       "      <td>0.136062</td>\n",
       "      <td>0.626074</td>\n",
       "      <td>0.081203</td>\n",
       "      <td>0.122476</td>\n",
       "    </tr>\n",
       "    <tr>\n",
       "      <th>SRR5983483</th>\n",
       "      <td>0.509642</td>\n",
       "      <td>0.603607</td>\n",
       "      <td>0.066172</td>\n",
       "      <td>0.050155</td>\n",
       "      <td>0.025137</td>\n",
       "      <td>0.328606</td>\n",
       "      <td>0.386564</td>\n",
       "      <td>0.136062</td>\n",
       "      <td>0.626074</td>\n",
       "      <td>0.081203</td>\n",
       "      <td>0.122476</td>\n",
       "    </tr>\n",
       "    <tr>\n",
       "      <th>SRR5983484</th>\n",
       "      <td>0.509642</td>\n",
       "      <td>0.603607</td>\n",
       "      <td>0.066172</td>\n",
       "      <td>0.050155</td>\n",
       "      <td>0.025137</td>\n",
       "      <td>0.328606</td>\n",
       "      <td>0.386564</td>\n",
       "      <td>0.136062</td>\n",
       "      <td>0.626074</td>\n",
       "      <td>0.081203</td>\n",
       "      <td>0.122476</td>\n",
       "    </tr>\n",
       "    <tr>\n",
       "      <th>SRR5983485</th>\n",
       "      <td>0.509642</td>\n",
       "      <td>0.603607</td>\n",
       "      <td>0.066172</td>\n",
       "      <td>0.050155</td>\n",
       "      <td>0.025137</td>\n",
       "      <td>0.328606</td>\n",
       "      <td>0.386563</td>\n",
       "      <td>0.136062</td>\n",
       "      <td>0.626074</td>\n",
       "      <td>0.081203</td>\n",
       "      <td>0.122476</td>\n",
       "    </tr>\n",
       "  </tbody>\n",
       "</table>\n",
       "<p>1973 rows × 11 columns</p>\n",
       "</div>"
      ],
      "text/plain": [
       "strain_pathway  Ace (buk)  Ace (but)  4-Ami (buk)  4-Ami (but)  Glu (buk)  \\\n",
       "ERR4330026       0.509642   0.603607     0.066172     0.050155   0.025137   \n",
       "ERR4330027       0.509642   0.603607     0.066172     0.050155   0.025137   \n",
       "ERR4330028       0.509642   0.603607     0.066172     0.050155   0.025137   \n",
       "ERR4330029       0.509642   0.603607     0.066172     0.050155   0.025137   \n",
       "ERR4330030       0.509642   0.603607     0.066172     0.050155   0.025137   \n",
       "...                   ...        ...          ...          ...        ...   \n",
       "SRR5983481       0.509642   0.603607     0.066172     0.050155   0.025137   \n",
       "SRR5983482       0.509642   0.603607     0.066172     0.050155   0.025137   \n",
       "SRR5983483       0.509642   0.603607     0.066172     0.050155   0.025137   \n",
       "SRR5983484       0.509642   0.603607     0.066172     0.050155   0.025137   \n",
       "SRR5983485       0.509642   0.603607     0.066172     0.050155   0.025137   \n",
       "\n",
       "strain_pathway  Glu (but)       Lys        SP       WWC       Acr       Pro  \n",
       "ERR4330026       0.328606  0.386564  0.136062  0.626074  0.081203  0.122476  \n",
       "ERR4330027       0.328606  0.386564  0.136062  0.626074  0.081203  0.122476  \n",
       "ERR4330028       0.328606  0.386564  0.136062  0.626074  0.081203  0.122476  \n",
       "ERR4330029       0.328606  0.386564  0.136062  0.626074  0.081203  0.122476  \n",
       "ERR4330030       0.328606  0.386564  0.136062  0.626074  0.081203  0.122476  \n",
       "...                   ...       ...       ...       ...       ...       ...  \n",
       "SRR5983481       0.328606  0.386564  0.136062  0.626074  0.081203  0.122476  \n",
       "SRR5983482       0.328606  0.386563  0.136062  0.626074  0.081203  0.122476  \n",
       "SRR5983483       0.328606  0.386564  0.136062  0.626074  0.081203  0.122476  \n",
       "SRR5983484       0.328606  0.386564  0.136062  0.626074  0.081203  0.122476  \n",
       "SRR5983485       0.328606  0.386563  0.136062  0.626074  0.081203  0.122476  \n",
       "\n",
       "[1973 rows x 11 columns]"
      ]
     },
     "execution_count": 30,
     "metadata": {},
     "output_type": "execute_result"
    }
   ],
   "source": [
    "for column in noramlised_unknown_overall_pathway_group:\n",
    "    noramlised_unknown_overall_pathway_group.rename(columns = {column:abbreviations_dict[column]}, inplace = True)"
   ]
  },
  {
   "cell_type": "markdown",
   "metadata": {},
   "source": [
    "### normalisation with respect to the length of each pathway"
   ]
  },
  {
   "cell_type": "code",
   "execution_count": 31,
   "metadata": {},
   "outputs": [],
   "source": [
    "for pathway in noramlised_unknown_overall_pathway_group:\n",
    "\n",
    "    # if the pathway is in our pathway_length_dict (it should be, this step is just to make sure)\n",
    "    # then divide the abundance by the length of that pathway\n",
    "    if pathway in pathway_length_dict.keys():\n",
    "\n",
    "        noramlised_unknown_overall_pathway_group[pathway] /= pathway_length_dict[pathway]"
   ]
  },
  {
   "cell_type": "markdown",
   "metadata": {},
   "source": [
    "### now add what the actual final pathways are\n",
    "\n",
    "This part simply goes through the entire file/column to figure out what pathway produces, then appends this result to the given table.\n",
    "\n",
    "The input table should have the **pathways** as the index, and he **samples** as the columns."
   ]
  },
  {
   "cell_type": "code",
   "execution_count": 37,
   "metadata": {},
   "outputs": [],
   "source": [
    "def find_pathway(df):\n",
    "\n",
    "    new = df.copy()\n",
    "\n",
    "    prop_pathways = [\"SP\", \"WWC\", \"Pro\", \"Acr\"]\n",
    "\n",
    "    butyrate_pathways = [\"Ace (buk)\", \"4-Ami (buk)\", \"Lys\", \"Glu (but)\", \"Glu (buk)\", \"Ace (but)\", \"4-Ami (but)\"]\n",
    "\n",
    "    pathway_result = []\n",
    "\n",
    "    # for each pathway in \n",
    "    for path in list(new.index):\n",
    "\n",
    "        if path in prop_pathways: pathway_result.append(\"propionate\")\n",
    "\n",
    "        if path in butyrate_pathways: pathway_result.append(\"butyrate\")\n",
    "\n",
    "    new.insert(0, \"overall_pathway\", pathway_result)\n",
    "\n",
    "    return new"
   ]
  },
  {
   "cell_type": "code",
   "execution_count": 38,
   "metadata": {},
   "outputs": [],
   "source": [
    "prop_but_groupby = find_pathway(noramlised_unknown_overall_pathway_group.transpose()).groupby([\"overall_pathway\"]).sum()"
   ]
  },
  {
   "cell_type": "markdown",
   "metadata": {},
   "source": [
    "### add the stuff about metadata + species \n",
    "\n",
    "This code is taken directly from August Burton, who I believe might have first gotten this code from Rebecca Christesen (RC)? Either way, all this code does is get you one final table that you need to care about (`relab2`), which contains taxonomical information for what I believe to be most, if not all, samples from the curated metagenomics dataset. "
   ]
  },
  {
   "cell_type": "code",
   "execution_count": null,
   "metadata": {},
   "outputs": [],
   "source": [
    "# Load curated microbiome data\n",
    "# The original data is provided in R. Here, we use only the abundance data, provided in easily to handle csv files (subfolder data_curated_microbiome). The abundance levels were extracted from metagenomics using https://github.com/biobakery/MetaPhlAn.\n",
    "#big table with abundance of different species across all thousands of samples from the data collection\n",
    "relab=pd.read_csv(\"data_curated_microbiome/relabundance.csv\")\n",
    "relab.rename(columns={'Unnamed: 0': 'tax_identifier'},inplace=True) # Gives first column label \"tax_identifier\"\n",
    "\n",
    "#information about samples\n",
    "colnames=pd.read_csv(\"data_curated_microbiome/relabundance_colData.csv\")\n",
    "colnames.rename(columns={'Unnamed: 0': 'sample'},inplace=True) # Gives name to first column\n",
    "\n",
    "#information about different species detected in the different samples\n",
    "rownames=pd.read_csv(\"data_curated_microbiome/relabundance_rowData.csv\")\n",
    "rownames.rename(columns={'Unnamed: 0': 'tax_identifier'},inplace=True)\n",
    "\n",
    "#add species information to major data table. Used for groupby analysis later on\n",
    "relab2 = relab.merge(rownames, on='tax_identifier', how='inner')  # Rows = species, Cols = Samples + species info"
   ]
  },
  {
   "cell_type": "markdown",
   "metadata": {},
   "source": [
    "### attempt to add the HMP samples with IBD"
   ]
  },
  {
   "cell_type": "code",
   "execution_count": null,
   "metadata": {},
   "outputs": [],
   "source": [
    "HMP_2019_runInfo = pd.read_csv(\"data_curated_microbiome/HMP_2019_runInfo.csv\").set_index(\"Sample\")\n",
    "HMP_2019_summary = pd.read_csv(\"data_curated_microbiome/HMP_2019_summary.csv\").set_index(\"Sample Accession\")"
   ]
  },
  {
   "cell_type": "markdown",
   "metadata": {},
   "source": [
    "#### here I perform the most scuffed join of all time\n",
    "I join everything on number of bases because that's the only column that both have, and is entirely unique. Good news: "
   ]
  },
  {
   "cell_type": "code",
   "execution_count": null,
   "metadata": {},
   "outputs": [],
   "source": [
    "HMP_2019_runInfo = HMP_2019_runInfo[[\"Run\"]]\n",
    "\n",
    "HMP_2019_summary = HMP_2019_summary.merge(HMP_2019_runInfo, how=\"left\", left_index=True, right_index=True)\n",
    "\n",
    "HMP_2019_summary = HMP_2019_summary.set_index(\"Total Bases\")\n",
    "\n",
    "HMP_2019_summary = HMP_2019_summary[[\"Run\"]]\n",
    "\n",
    "HMP_2019_summary"
   ]
  },
  {
   "cell_type": "code",
   "execution_count": null,
   "metadata": {},
   "outputs": [],
   "source": [
    "temp = pd.read_csv(\"data_curated_microbiome/nayfach_asnicar_hmp_metadata.csv\").set_index(\"number_bases\")\n",
    "\n",
    "temp = temp.merge(HMP_2019_summary, how=\"left\", left_index=True, right_index=True)"
   ]
  },
  {
   "cell_type": "code",
   "execution_count": null,
   "metadata": {},
   "outputs": [],
   "source": [
    "accession = []\n",
    "\n",
    "ncbi_list = list(temp.NCBI_accession)\n",
    "\n",
    "run_list = list(temp.Run)\n",
    "\n",
    "for i in range(len(ncbi_list)):\n",
    "\n",
    "    if type(ncbi_list[i]) == str:\n",
    "        value = ncbi_list[i]\n",
    "    elif type(run_list[i]) == str:\n",
    "        value = run_list[i]\n",
    "        \n",
    "    accession.append(value)\n",
    "\n",
    "temp[\"NCBI_accession\"] = accession\n",
    "\n",
    "HMP_data = temp.loc[temp[\"study_name\"] == \"HMP_2019_ibdmdb\"]"
   ]
  },
  {
   "cell_type": "code",
   "execution_count": null,
   "metadata": {},
   "outputs": [],
   "source": [
    "HMP_list = HMP_data.NCBI_accession\n",
    "\n",
    "with open(r'HMP_accessions.txt', 'w') as fp:\n",
    "    for item in HMP_list:\n",
    "        # write each item on a new line\n",
    "        fp.write(\"%s\\n\" % item)\n",
    "    print('Done')"
   ]
  },
  {
   "cell_type": "markdown",
   "metadata": {},
   "source": [
    "now add the metadata in"
   ]
  },
  {
   "cell_type": "code",
   "execution_count": null,
   "metadata": {},
   "outputs": [],
   "source": [
    "metadata = pd.read_csv(\"data_curated_microbiome/nayfach_asnicar_hmp_metadata.csv\").set_index(\"NCBI_accession\")\n",
    "\n",
    "temp = prop_but_groupby.transpose()\n",
    "\n",
    "with_metadata_prop_but_normalised = temp.merge(metadata, how=\"left\", left_index=True, right_index=True)\n",
    "\n",
    "with_metadata_prop_but_normalised.to_csv(\"output/with_metadata_prop_but_normalised.csv\")"
   ]
  },
  {
   "cell_type": "code",
   "execution_count": null,
   "metadata": {},
   "outputs": [],
   "source": [
    "temp = noramlised_unknown_overall_pathway_group.transpose()\n",
    "\n",
    "with_metadata_overall_group_normalised = temp.merge(metadata, how=\"left\", left_index=True, right_index=True)\n",
    "\n",
    "with_metadata_overall_group_normalised.to_csv(\"output/with_metadata_overall_group_normalised\")"
   ]
  },
  {
   "cell_type": "code",
   "execution_count": null,
   "metadata": {},
   "outputs": [],
   "source": [
    "temp"
   ]
  },
  {
   "cell_type": "markdown",
   "metadata": {},
   "source": [
    "## RELOAD DATA HERE"
   ]
  },
  {
   "cell_type": "code",
   "execution_count": null,
   "metadata": {},
   "outputs": [],
   "source": [
    "with_metadata_prop_but_normalised = pd.read_csv(\"output/with_metadata_prop_but_normalised.csv\").set_index(\"Unnamed: 0.1\")\n",
    "\n",
    "with_metadata_overall_group_normalised = pd.read_csv(\"output/with_metadata_overall_group_normalised\").set_index(\"Unnamed: 0.1\")"
   ]
  },
  {
   "cell_type": "markdown",
   "metadata": {},
   "source": [
    "### now lets normalise for percentage\n",
    "\n",
    "`percentageNormaliseOne` does normalisation correctly if there is no metadata attached\n",
    "\n",
    "`percentageNormaliseOne` does normalisation correctly only if there is metadata attached, and the data is only for propionate vs butyrate"
   ]
  },
  {
   "cell_type": "code",
   "execution_count": null,
   "metadata": {},
   "outputs": [],
   "source": [
    "def percentageNormaliseOne(df):\n",
    "\n",
    "    new = df.copy()\n",
    "\n",
    "    summed = df.sum(axis=0)\n",
    "\n",
    "    for row in df.index:\n",
    "\n",
    "        new.loc[row] = df.loc[row].div(summed)\n",
    "\n",
    "    return new\n",
    "\n",
    "def percentageNormaliseTwo(df, pathways):\n",
    "\n",
    "    summed = df[pathways[0]].add(df[pathways[1]])\n",
    "\n",
    "    for pathway in pathways:\n",
    "\n",
    "        pathway_name = pathway+\"_percent\"\n",
    "        \n",
    "        df[pathway_name] = df[pathway].div(summed)\n",
    "\n",
    "        df.loc[~np.isfinite(df[pathway_name]), pathway_name] = np.nan\n",
    "\n",
    "    return df.transpose()"
   ]
  },
  {
   "cell_type": "markdown",
   "metadata": {},
   "source": [
    "## BASICALLY THE FINAL TABLE THAT I NEED FOR PROP VS BUT"
   ]
  },
  {
   "cell_type": "markdown",
   "metadata": {},
   "source": [
    "this does the percentage normalisation, then does the minus metric stuff"
   ]
  },
  {
   "cell_type": "code",
   "execution_count": null,
   "metadata": {},
   "outputs": [],
   "source": [
    "with_metadata_prop_but_percent_change = percentageNormaliseTwo(with_metadata_prop_but_normalised, [\"BTR\", \"PROP\"])\n",
    "\n",
    "with_metadata_prop_but_percent_change.loc[\"BTR % - PROP %\"] = with_metadata_prop_but_percent_change.loc[\"butyrate_percent\"] - with_metadata_prop_but_percent_change.loc[\"propionate_percent\"]\n",
    "\n",
    "with_metadata_prop_but_percent_change.loc[\"BTR - PROP\"] = with_metadata_prop_but_percent_change.loc[\"butyrate\"] - with_metadata_prop_but_percent_change.loc[\"propionate\"]\n",
    "\n",
    "with_metadata_prop_but_percent_change = with_metadata_prop_but_percent_change.transpose()"
   ]
  },
  {
   "cell_type": "markdown",
   "metadata": {},
   "source": [
    "this adds my own binning for age"
   ]
  },
  {
   "cell_type": "code",
   "execution_count": null,
   "metadata": {},
   "outputs": [],
   "source": [
    "age_category_list = []\n",
    "\n",
    "index = 0\n",
    "\n",
    "for sample in with_metadata_prop_but_percent_change.age:\n",
    "\n",
    "    if sample <=1:\n",
    "        if with_metadata_prop_but_percent_change.infant_age[index] <= 30:\n",
    "            age_category_list.append(\"Newborn\")\n",
    "        else:\n",
    "            age_category_list.append(\"Infant\")\n",
    "\n",
    "    elif sample > 1 and sample <=12: age_category_list.append(\"Child\")\n",
    "\n",
    "    elif sample > 12 and sample < 18: age_category_list.append(\"Adolescent\")\n",
    "\n",
    "    elif sample >= 18 and sample < 65: age_category_list.append(\"Adult\")\n",
    "\n",
    "    elif sample >= 65: age_category_list.append(\"Older Adult\")\n",
    "\n",
    "    else: age_category_list.append(np.nan)\n",
    "\n",
    "    index += 1\n",
    "\n",
    "with_metadata_prop_but_percent_change[\"age_category\"] = age_category_list\n",
    "\n",
    "with_metadata_prop_but_percent_change = with_metadata_prop_but_percent_change.rename(columns={\"infant_age\": \"Infant Age (days)\"})"
   ]
  },
  {
   "cell_type": "markdown",
   "metadata": {},
   "source": [
    "now save everything"
   ]
  },
  {
   "cell_type": "code",
   "execution_count": null,
   "metadata": {},
   "outputs": [],
   "source": [
    "with_metadata_prop_but_percent_change.to_csv(\"output/with_metadata_prop_but_percent_change\")"
   ]
  },
  {
   "cell_type": "markdown",
   "metadata": {},
   "source": [
    "## RELOAD THE DATA HERE"
   ]
  },
  {
   "cell_type": "code",
   "execution_count": null,
   "metadata": {},
   "outputs": [],
   "source": [
    "with_metadata_prop_but_percent_change = pd.read_csv(\"output/with_metadata_prop_but_percent_change\").set_index(\"Unnamed: 0.1\")\n",
    "\n",
    "with_metadata_prop_but_percent_change"
   ]
  },
  {
   "cell_type": "code",
   "execution_count": null,
   "metadata": {},
   "outputs": [],
   "source": [
    "healthy_overall_group_noramlised = with_metadata_overall_group_normalised.loc[with_metadata_overall_group_normalised['disease'] == \"healthy\"]\n",
    "\n",
    "healthy_prop_but_noramlised = with_metadata_prop_but_percent_change.loc[with_metadata_prop_but_percent_change['disease'] == \"healthy\"]\n",
    "\n",
    "adult_healthy_overall_group_normalised = healthy_overall_group_noramlised.loc[healthy_overall_group_noramlised[\"age\"] >= 18]\n",
    "\n",
    "adult_health_prop_but_normalised = with_metadata_prop_but_percent_change.loc[with_metadata_prop_but_percent_change[\"age\"] >= 18]"
   ]
  },
  {
   "cell_type": "code",
   "execution_count": null,
   "metadata": {},
   "outputs": [],
   "source": [
    "adult_health_prop_but_normalised"
   ]
  },
  {
   "cell_type": "markdown",
   "metadata": {},
   "source": [
    "#### make the stuff to account for phylum"
   ]
  },
  {
   "cell_type": "code",
   "execution_count": null,
   "metadata": {},
   "outputs": [],
   "source": [
    "phylum_df = relab2.groupby(\"phylum\").sum().drop([\"superkingdom\", \"class\", \"order\", \"family\", \"genus\", \"species\"], axis=1).reset_index().set_index(\"phylum\").drop([\"tax_identifier\"], axis=1)\n",
    "\n",
    "temp = phylum_df.transpose()\n",
    "\n",
    "metadata = pd.read_csv(\"data_curated_microbiome/nayfach_asnicar_hmp_metadata.csv\").drop([\"infant_age\", \"age_category\", \"gender\", \"country\", \"non_westernized\", \"BMI\"], axis=1).set_index(\"Unnamed: 0\")\n",
    "\n",
    "with_phylum = metadata.merge(temp, how=\"left\", left_index=True, right_index=True).reset_index().set_index(\"NCBI_accession\")\n",
    "\n",
    "bacteroides_vs_firmicutes = with_phylum[[\"Bacteroidetes\", \"Firmicutes\"]]\n",
    "\n",
    "bacteroides_vs_firmicutes = bacteroides_vs_firmicutes.reindex([\"Firmicutes\", \"Bacteroidetes\"], axis=\"columns\").transpose()\n",
    "\n",
    "adult_healthy_bacteroides_vs_firmicutes = with_phylum[[\"Bacteroidetes\", \"Firmicutes\", \"age\", \"disease\"]]\n",
    "\n",
    "adult_healthy_bacteroides_vs_firmicutes = adult_healthy_bacteroides_vs_firmicutes.loc[adult_healthy_bacteroides_vs_firmicutes[\"age\"] >= 18]\n",
    "\n",
    "adult_healthy_bacteroides_vs_firmicutes = adult_healthy_bacteroides_vs_firmicutes.loc[adult_healthy_bacteroides_vs_firmicutes[\"disease\"] == \"healthy\"]\n",
    "\n",
    "adult_healthy_bacteroides_vs_firmicutes = adult_healthy_bacteroides_vs_firmicutes.drop([\"age\", \"disease\"], axis=1).reindex([\"Firmicutes\", \"Bacteroidetes\"], axis=\"columns\").transpose()\n",
    "\n",
    "adult_healthy_bacteroides_vs_firmicutes"
   ]
  },
  {
   "cell_type": "code",
   "execution_count": null,
   "metadata": {},
   "outputs": [],
   "source": [
    "valid_samples = adult_healthy_bacteroides_vs_firmicutes.transpose().reset_index().dropna()\n",
    "\n",
    "valid_samples = valid_samples.set_index(\"NCBI_accession\")"
   ]
  },
  {
   "cell_type": "code",
   "execution_count": null,
   "metadata": {},
   "outputs": [],
   "source": [
    "temp = adult_health_prop_but_normalised[[\"butyrate\", \"propionate\"]]\n",
    "\n",
    "temp = temp.rename(columns={\"butyrate\": \"BTR\", \"propionate\": \"PROP\"})\n",
    "\n",
    "adult_health_prop_but_percent = percentageNormaliseOne(temp.transpose())"
   ]
  },
  {
   "cell_type": "code",
   "execution_count": null,
   "metadata": {},
   "outputs": [],
   "source": [
    "temp_merged = adult_health_prop_but_percent.transpose().merge(valid_samples, how=\"left\", left_index=True, right_index=True)\n",
    "\n",
    "temp_merged = percentageNormaliseTwo(temp_merged)\n",
    "\n",
    "temp_merged = temp_merged.transpose().sort_values(\"Firmicutes_percent\")\n",
    "\n",
    "sorted_adult_healthy_bacteroides_vs_firmicutes_percent = temp_merged[[\"Firmicutes_percent\", \"Bacteroidetes_percent\"]].transpose()\n",
    "\n",
    "sorted_adult_healthy_prop_but_percent = temp_merged[[\"BTR\", \"PROP\"]].transpose()"
   ]
  },
  {
   "cell_type": "code",
   "execution_count": null,
   "metadata": {},
   "outputs": [],
   "source": [
    "sorted_adult_healthy_bacteroides_vs_firmicutes_percent"
   ]
  },
  {
   "cell_type": "code",
   "execution_count": null,
   "metadata": {},
   "outputs": [],
   "source": [
    "sorted_adult_healthy_bacteroides_vs_firmicutes_percent"
   ]
  },
  {
   "cell_type": "markdown",
   "metadata": {},
   "source": [
    "## random plots testing time"
   ]
  },
  {
   "cell_type": "markdown",
   "metadata": {},
   "source": [
    "### custom fonts because why not I'm annoying like that"
   ]
  },
  {
   "cell_type": "code",
   "execution_count": null,
   "metadata": {},
   "outputs": [],
   "source": [
    "font_dirs = [\"Hind\"]\n",
    "font_files = font_manager.findSystemFonts(fontpaths=font_dirs)\n",
    "\n",
    "for font_file in font_files:\n",
    "    font_manager.fontManager.addfont(font_file)\n",
    "\n",
    "# set font\n",
    "plt.rcParams['font.family'] = \"Hind\""
   ]
  },
  {
   "cell_type": "markdown",
   "metadata": {},
   "source": [
    "### defining functions to make some basic stacked bar plots"
   ]
  },
  {
   "cell_type": "code",
   "execution_count": null,
   "metadata": {},
   "outputs": [],
   "source": [
    "def stackedBarDF(overall_pathway_df):\n",
    "\n",
    "    temp_table = overall_pathway_df.transpose()\n",
    "\n",
    "    temp_dict = {}\n",
    "\n",
    "    for column in temp_table:\n",
    "\n",
    "        temp_dict[column] = temp_table[column].tolist()\n",
    "\n",
    "    samples_list = list(temp_table.index.values)\n",
    "\n",
    "    plottingDF = pd.DataFrame(\n",
    "        temp_dict,\n",
    "        index = samples_list\n",
    "    )\n",
    "\n",
    "    return plottingDF.fillna(0) \n",
    "\n",
    "def plotStackedBar(stackedBarDF, name=\"overall pathway groupby\", x_name=\"samples\"):\n",
    "\n",
    "    mpl.rcParams.update(mpl.rcParamsDefault)\n",
    "    n = len(stackedBarDF.columns)\n",
    "    colors = plt.cm.viridis(np.linspace(0, 1, n))\n",
    "\n",
    "    plt.rcParams.update({'font.size': 33})\n",
    "    plt.tight_layout()\n",
    "    plt.rcParams['figure.dpi']=600\n",
    "    plt.rcParams['font.family'] = \"Hind\"\n",
    "    \n",
    "    return stackedBarDF.plot(kind=\"bar\", stacked=True, color=colors, figsize=(25,7), xlabel=x_name, ylabel=\"relative pathway abundance\", title=name, xticks=([])).legend(loc=\"center left\", bbox_to_anchor=(1, 0.5))\n",
    "    \n",
    "def sortedStackedBar(stackedBarDF, sortBy, auto_name=False, x_name=\"samples\"):\n",
    "\n",
    "    # stackedBarDF = stackedBarDF[[\"butyrate_percent\", \"propionate_percent\"]] if percent else stackedBarDF[[\"BTR\", \"PROP\"]]\n",
    "    \n",
    "    name = \"Sorted by abundance of \" + sortBy if not auto_name else \"\"\n",
    "\n",
    "    return plotStackedBar(stackedBarDF.sort_values(by=sortBy), name, x_name)"
   ]
  },
  {
   "cell_type": "markdown",
   "metadata": {},
   "source": [
    "### defining stuff for scatter plots"
   ]
  },
  {
   "cell_type": "code",
   "execution_count": null,
   "metadata": {},
   "outputs": [],
   "source": [
    "def plotScatter(scatterDF, x_data, y_data):\n",
    "\n",
    "    plt.rcParams.update({'font.size': 23})\n",
    "    plt.tight_layout()\n",
    "    plt.rcParams['figure.dpi']=600\n",
    "    sns.set_style(\"darkgrid\")\n",
    "\n",
    "    name = \"Proportions of \" + x_data + \" producers versus\\n\" + y_data + \" producers for 1203 healthy adult samples\"\n",
    "    filename = x_data + \"_vs_\" + y_data\n",
    "    \n",
    "    fig = scatterDF.plot(kind=\"scatter\", x=x_data, y=y_data, figsize=(15,6),colormap=\"viridis\", xlabel=\"relative abundance of \" + x_data, ylabel=\"relative abundance of \" + y_data, title=name)\n",
    "\n",
    "    plt.show()\n",
    "\n",
    "def plotScatterContinuous(scatterDF, x_data, y_data, c_data):\n",
    "\n",
    "    scatterDF = scatterDF.dropna(subset=[c_data], axis=0)\n",
    "\n",
    "    plt.rcParams.update({'font.size': 20})\n",
    "    plt.tight_layout()\n",
    "    plt.rcParams['figure.dpi']=600\n",
    "    sns.set_style(\"darkgrid\")\n",
    "\n",
    "    name = x_data + \" vs \" + y_data + \" with respect to \" + c_data\n",
    "    \n",
    "    fig = scatterDF.plot(kind=\"scatter\", x=x_data, y=y_data, c=c_data, colormap=\"viridis\", alpha=0.7, figsize=(15,5), xlabel=\"relative abundance of \" + x_data, ylabel=\"relative abundance of \" + y_data, title=name)\n",
    "\n",
    "def plotScatterDiscrete(scatterDF, x_data, y_data, c_data):\n",
    "\n",
    "    name = x_data + \" vs \" + y_data + \" with respect to \" + c_data\n",
    "\n",
    "    sns.reset_defaults()\n",
    "    sns.set_style(\"darkgrid\")\n",
    "    plt.rcParams.update({'font.size': 20})\n",
    "\n",
    "    plt.rcParams['figure.dpi']=600\n",
    "    plt.figure(figsize=(14, 5))\n",
    "\n",
    "    sns.set_palette(wesanderson.film_palette(\"darjeeling\"))\n",
    "\n",
    "    sns.scatterplot(data=scatterDF,x=x_data, y=y_data, hue=c_data, alpha=0.5).set(xlabel=\"relative abundance of \" + x_data, ylabel=\"relative abundance of \" + y_data, title=name)\n",
    "    plt.show()"
   ]
  },
  {
   "cell_type": "markdown",
   "metadata": {},
   "source": [
    "### defining stuff for line/scatter plots"
   ]
  },
  {
   "cell_type": "code",
   "execution_count": null,
   "metadata": {},
   "outputs": [],
   "source": [
    "def plotScatterLine(df, x_data, y_data, name):\n",
    "    \n",
    "    sns.reset_defaults()\n",
    "    sns.set_style(\"darkgrid\")\n",
    "    plt.rcParams.update({'font.size': 53})\n",
    "    plt.rcParams['font.family'] = \"Hind\"\n",
    "    plt.rcParams['figure.dpi']=600\n",
    "    sns.set_palette(\"viridis\")\n",
    "    plt.figure(figsize=(31, 10))\n",
    "    \n",
    "    return sns.regplot(data=df, x=x_data, y=y_data, x_jitter=.05, lowess=True, scatter_kws={\"s\": 500, 'alpha': 0.3}).set(title=name, ylabel=\"Relative Abundance of BTR\")\n",
    "\n",
    "def plotStrip(df, x_data, y_data, c_data, order_list, name):\n",
    "    \n",
    "    sns.reset_defaults()\n",
    "    sns.set_style(\"darkgrid\")\n",
    "    plt.rcParams.update({'font.size': 53})\n",
    "    plt.rcParams['font.family'] = \"Hind\"\n",
    "    plt.rcParams['figure.dpi']=600\n",
    "    sns.set_palette(\"viridis\")\n",
    "    plt.figure(figsize=(31, 10))\n",
    "    \n",
    "    temp = df.reset_index()\n",
    "\n",
    "    sns.set_palette(\"viridis\")\n",
    "\n",
    "    sns.stripplot(data=temp, x=x_data, y=y_data, hue=c_data, order=order_list, dodge=True, alpha=0.4, s=15)"
   ]
  },
  {
   "cell_type": "markdown",
   "metadata": {},
   "source": [
    "### defining stuff for violin plots"
   ]
  },
  {
   "cell_type": "code",
   "execution_count": null,
   "metadata": {},
   "outputs": [],
   "source": [
    "def violinDF(df, category):\n",
    "\n",
    "    temp = pd.melt(df.reset_index(), id_vars=\"Unnamed: 0.1\", value_vars=[\"butyrate\", \"propionate\"])\n",
    "\n",
    "    temp = temp.set_index(\"Unnamed: 0.1\").rename(columns={\"value\": \"Relative Abundance\"})\n",
    "    \n",
    "    temp1 = df[[category]]\n",
    "\n",
    "    return temp.merge(temp1, how=\"left\", left_index=True, right_index=True)\n",
    "\n",
    "\n",
    "def plotViolin(df, x_data, y_data, c_data, order_list, split_option, name):\n",
    "    \n",
    "    sns.reset_defaults()\n",
    "    sns.set_style(\"darkgrid\")\n",
    "    plt.rcParams.update({'font.size': 53})\n",
    "    plt.rcParams['font.family'] = \"Hind\"\n",
    "    plt.rcParams['figure.dpi']=600\n",
    "    plt.figure(figsize=(31, 10))\n",
    "    sns.set_palette(\"viridis_r\")\n",
    "\n",
    "    sns.violinplot(data=df, x=x_data, y=y_data, hue=c_data, order=order_list, cut=0, inner=\"stick\", split=split_option, bw=0.2).set(title=name)"
   ]
  },
  {
   "cell_type": "code",
   "execution_count": null,
   "metadata": {},
   "outputs": [],
   "source": [
    "unsorted_normalised_final_graph = plotStackedBar(stackedBarDF(noramlised_unknown_overall_pathway_group), \"group by overall pathway, unsorted, normalised\")"
   ]
  },
  {
   "cell_type": "code",
   "execution_count": null,
   "metadata": {},
   "outputs": [],
   "source": [
    "sort_acetylCoA_buk = sortedStackedBar(noramlised_unknown_overall_pathway_group, \"acetylCoA_buk\")"
   ]
  },
  {
   "cell_type": "code",
   "execution_count": null,
   "metadata": {},
   "outputs": [],
   "source": [
    "sort_acetylCoA_but = sortedStackedBar(noramlised_unknown_overall_pathway_group, \"Ace (but)\", )"
   ]
  },
  {
   "cell_type": "code",
   "execution_count": null,
   "metadata": {},
   "outputs": [],
   "source": [
    "sort_but_graph = sortedStackedBar(prop_but_groupby, \"butyrate\")\n",
    "\n",
    "plt.show()"
   ]
  },
  {
   "cell_type": "markdown",
   "metadata": {},
   "source": [
    "### making normalised percentage bar charts?"
   ]
  },
  {
   "cell_type": "code",
   "execution_count": null,
   "metadata": {},
   "outputs": [],
   "source": [
    "overall_pathway_normalised_group_percent = percentageNormalise(noramlised_unknown_overall_pathway_group)\n",
    "\n",
    "# unsorted_normalised_final_graph_percent = plotStackedBar(stackedBarDF(overall_pathway_normalised_group_percent), \"unsorted, noramlised, overall pathway group\")"
   ]
  },
  {
   "cell_type": "code",
   "execution_count": null,
   "metadata": {},
   "outputs": [],
   "source": [
    "adult_health_prop_but_normalised\n",
    "\n",
    "\n",
    "sort_but_normalised = sortedStackedBar(stackedBarDF=adult_health_prop_but_normalised, sortBy=\"butyrate_percent\", auto_name=\"title\", x_name=\"1973 samples across the Asnicar, Nayfach, and HMP 2019 studies\", percent=True)\n",
    "\n",
    "plt.show()"
   ]
  },
  {
   "cell_type": "code",
   "execution_count": null,
   "metadata": {},
   "outputs": [],
   "source": [
    "temp = adult_health_prop_but_normalised[[\"butyrate\", \"propionate\"]]\n",
    "\n",
    "temp = temp.rename(columns={\"butyrate\": \"BTR\", \"propionate\": \"PROP\"})\n",
    "\n",
    "adult_health_prop_but_percent = percentageNormaliseOne(temp.transpose())\n",
    "\n",
    "adult_healthy_sort_but_normalised = sortedStackedBar(adult_health_prop_but_percent.transpose(), sortBy=\"BTR\", auto_name=\"title\", x_name=\"1506 healthy adult samples\")\n",
    "\n",
    "plt.show()"
   ]
  },
  {
   "cell_type": "code",
   "execution_count": null,
   "metadata": {},
   "outputs": [],
   "source": [
    "sorted_adult_healthy_prop_but_percent_graph = sortedStackedBar(sorted_adult_healthy_prop_but_percent.transpose(), sortBy=\"BTR\", auto_name=\"title\", x_name=\"1098 healthy adult samples\")"
   ]
  },
  {
   "cell_type": "code",
   "execution_count": null,
   "metadata": {},
   "outputs": [],
   "source": [
    "plt.show()"
   ]
  },
  {
   "cell_type": "code",
   "execution_count": null,
   "metadata": {},
   "outputs": [],
   "source": [
    "temp = sorted_adult_healthy_bacteroides_vs_firmicutes_percent.transpose().reindex(columns=[\"Firmicutes\", \"Bacteroidetes\"])\n",
    "\n",
    "sorted_adult_healthy_bacteroides_vs_firmicutes_percent_graph = plotStackedBar(temp, \"Bacteroidetes Vs. Firmicutes, sorted by proportions of BTR\", \"1098 healthy adult samples\")\n",
    "plt.show()"
   ]
  },
  {
   "cell_type": "code",
   "execution_count": null,
   "metadata": {},
   "outputs": [],
   "source": [
    "sorted_acetylCoA_buk_normalised_percent = sortedStackedBar(overall_pathway_normalised_group_percent, \"acetylCoA_buk\")"
   ]
  },
  {
   "cell_type": "code",
   "execution_count": null,
   "metadata": {},
   "outputs": [],
   "source": [
    "sorted_acetylCoA_but_normalised_percent = sortedStackedBar(overall_pathway_normalised_group_percent, \"Ace (but)\", title=\"Pathway Variations in Healthy Individuals\", x_name=\"1973 samples across the Asnicar, Nayfach, and HMP 2019 studies\")"
   ]
  },
  {
   "cell_type": "code",
   "execution_count": null,
   "metadata": {},
   "outputs": [],
   "source": [
    "temp = adult_healthy_overall_group_normalised[list(pathway_length_dict.keys())]\n",
    "\n",
    "adult_healthy_overall_group_percent = percentageNormaliseOne(temp.transpose())\n",
    "\n",
    "adult_healthy_sort_acetylCoA_normalised = sortedStackedBar(adult_healthy_overall_group_percent.transpose(), sortBy=\"Ace (but)\", auto_name=\"title\", x_name=\"1506 healthy adult samples\")\n",
    "\n",
    "plt.show()"
   ]
  },
  {
   "cell_type": "code",
   "execution_count": null,
   "metadata": {},
   "outputs": [],
   "source": [
    "adult_healthy_overall_group_percent"
   ]
  },
  {
   "cell_type": "code",
   "execution_count": null,
   "metadata": {},
   "outputs": [],
   "source": [
    "sorted_propanediol_normalised_percent = sortedStackedBar(overall_pathway_normalised_group_percent, \"propanediol pathway\")"
   ]
  },
  {
   "cell_type": "code",
   "execution_count": null,
   "metadata": {},
   "outputs": [],
   "source": [
    "phylum_percentage_df = percentageNormaliseOne(bacteroides_vs_firmicutes)\n",
    "\n",
    "phylum_distribution_unsorted = plotStackedBar(stackedBarDF(phylum_percentage_df), \"unsorted, noramlised, bacteroidetes vs firmicutes\")\n",
    "\n",
    "plt.show()"
   ]
  },
  {
   "cell_type": "code",
   "execution_count": null,
   "metadata": {},
   "outputs": [],
   "source": [
    "plt.show()"
   ]
  },
  {
   "cell_type": "code",
   "execution_count": null,
   "metadata": {},
   "outputs": [],
   "source": [
    "sorted_bacteroidetes_normalised_percent = sortedStackedBar(phylum_percentage_df, \"Firmicutes\", autoname=True, x_name = \"3584 samples\")\n",
    "plt.show()"
   ]
  },
  {
   "cell_type": "code",
   "execution_count": null,
   "metadata": {},
   "outputs": [],
   "source": [
    "adult_healthy_phylum_percentage_df = percentageNormaliseOne(adult_healthy_bacteroides_vs_firmicutes).transpose()\n",
    "\n",
    "adult_healthy_sorted_bacteroidetes_normalised_percent = sortedStackedBar(adult_healthy_phylum_percentage_df, \"Firmicutes\", x_name = \"1506 healthy adult samples\", percent=False)\n",
    "plt.show()"
   ]
  },
  {
   "cell_type": "code",
   "execution_count": null,
   "metadata": {},
   "outputs": [],
   "source": [
    "adult_healthy_phylum_percentage_df"
   ]
  },
  {
   "cell_type": "markdown",
   "metadata": {},
   "source": [
    "### scatter plots"
   ]
  },
  {
   "cell_type": "code",
   "execution_count": null,
   "metadata": {},
   "outputs": [],
   "source": [
    "temp = adult_health_prop_but_normalised[[\"butyrate\", \"propionate\"]]\n",
    "\n",
    "healthy_adult_prop_vs_but_graph = plotScatter(temp, x_data=\"butyrate\", y_data=\"propionate\")\n",
    "plt.show()"
   ]
  },
  {
   "cell_type": "code",
   "execution_count": null,
   "metadata": {},
   "outputs": [],
   "source": [
    "prop_vs_but = prop_but_groupby.transpose()\n",
    "\n",
    "prop_vs_but_graph = plotScatter(prop_vs_but, x_data=\"butyrate\", y_data=\"propionate\")\n",
    "plt.show()"
   ]
  },
  {
   "cell_type": "code",
   "execution_count": null,
   "metadata": {},
   "outputs": [],
   "source": [
    "# temp = bacteroides_vs_firmicutes.transpose()\n",
    "\n",
    "# bacteroides_vs_firmicutes = plotScatter(temp, x_data=\"Firmicutes\", y_data=\"Bacteroidetes\")\n",
    "# plt.show()"
   ]
  },
  {
   "cell_type": "code",
   "execution_count": null,
   "metadata": {},
   "outputs": [],
   "source": [
    "bacteroides_vs_firmicutes"
   ]
  },
  {
   "cell_type": "code",
   "execution_count": null,
   "metadata": {},
   "outputs": [],
   "source": [
    "age_graph = plotScatterContinuous(with_metadata_prop_but_normalised, \"butyrate\", \"propionate\", \"age\")\n",
    "plt.show()"
   ]
  },
  {
   "cell_type": "code",
   "execution_count": null,
   "metadata": {},
   "outputs": [],
   "source": [
    "age_graph_percent = plotScatterContinuous(with_metadata_prop_but_percent, \"butyrate\", \"propionate\")"
   ]
  },
  {
   "cell_type": "code",
   "execution_count": null,
   "metadata": {},
   "outputs": [],
   "source": [
    "age_graph = plotScatterContinuous(with_metadata_prop_but_normalised, \"butyrate\", \"propionate\", \"age\")\n",
    "plt.show()"
   ]
  },
  {
   "cell_type": "code",
   "execution_count": null,
   "metadata": {},
   "outputs": [],
   "source": [
    "age_graph_phyla = plotScatterContinuous(bacteroides_vs_firmicutes, \"butyrate\", \"propionate\", \"age\")\n",
    "plt.show()"
   ]
  },
  {
   "cell_type": "code",
   "execution_count": null,
   "metadata": {},
   "outputs": [],
   "source": [
    "bmi_graph = plotScatterContinuous(with_metadata_prop_but_normalised, \"butyrate\", \"propionate\", \"BMI\")\n",
    "plt.show()"
   ]
  },
  {
   "cell_type": "code",
   "execution_count": null,
   "metadata": {},
   "outputs": [],
   "source": [
    "# country_graph = plotScatterDiscrete(with_metadata_prop_but_normalised, \"butyrate\", \"propionate\", \"country\")"
   ]
  },
  {
   "cell_type": "code",
   "execution_count": null,
   "metadata": {},
   "outputs": [],
   "source": [
    "gender_graph = plotScatterDiscrete(with_metadata_prop_but_normalised, \"butyrate\", \"propionate\", \"gender\")"
   ]
  },
  {
   "cell_type": "code",
   "execution_count": null,
   "metadata": {},
   "outputs": [],
   "source": [
    "age_category_graph = plotScatterDiscrete(with_metadata_prop_but_normalised, \"butyrate\", \"propionate\", \"age_category\")"
   ]
  },
  {
   "cell_type": "code",
   "execution_count": null,
   "metadata": {},
   "outputs": [],
   "source": [
    "born_method_graph = plotScatterDiscrete(with_metadata_prop_but_normalised, \"butyrate\", \"propionate\", \"method of birth\")"
   ]
  },
  {
   "cell_type": "code",
   "execution_count": null,
   "metadata": {},
   "outputs": [],
   "source": [
    "feeding_practice_graph = plotScatterDiscrete(with_metadata_prop_but_normalised, \"butyrate\", \"propionate\", \"feeding practice\")"
   ]
  },
  {
   "cell_type": "code",
   "execution_count": null,
   "metadata": {},
   "outputs": [],
   "source": [
    "# pregnant_graph = plotScatterDiscrete(adult_health_prop_but_normalised, \"butyrate\", \"propionate\", \"pregnant\")"
   ]
  },
  {
   "cell_type": "code",
   "execution_count": null,
   "metadata": {},
   "outputs": [],
   "source": [
    "disease_graph = plotScatterDiscrete(with_metadata_prop_but_normalised, \"butyrate\", \"propionate\", \"disease\")"
   ]
  },
  {
   "cell_type": "code",
   "execution_count": null,
   "metadata": {},
   "outputs": [],
   "source": [
    "lactating_graph = plotScatterDiscrete(adult_health_prop_but_normalised, \"butyrate\", \"propionate\", \"lactating\")"
   ]
  },
  {
   "cell_type": "code",
   "execution_count": null,
   "metadata": {},
   "outputs": [],
   "source": [
    "infant_age_graph = plotScatterContinuous(with_metadata_prop_but_normalised, \"butyrate\", \"propionate\", \"infant_age\")\n",
    "plt.show()"
   ]
  },
  {
   "cell_type": "code",
   "execution_count": null,
   "metadata": {},
   "outputs": [],
   "source": [
    "family_role_graph = plotScatterDiscrete(with_metadata_prop_but_normalised, \"butyrate\", \"propionate\", \"family_role\")"
   ]
  },
  {
   "cell_type": "code",
   "execution_count": null,
   "metadata": {},
   "outputs": [],
   "source": [
    "days_since_collection_graph = plotScatterContinuous(with_metadata_prop_but_normalised, \"butyrate\", \"propionate\", \"days_from_first_collection\")\n",
    "plt.show()"
   ]
  },
  {
   "cell_type": "code",
   "execution_count": null,
   "metadata": {},
   "outputs": [],
   "source": [
    "antibiotics_graph = plotScatterDiscrete(with_metadata_prop_but_normalised, \"butyrate\", \"propionate\", \"antibiotics_current_use\")"
   ]
  },
  {
   "cell_type": "code",
   "execution_count": null,
   "metadata": {},
   "outputs": [],
   "source": [
    "disease_graph = plotScatterDiscrete(with_metadata_prop_but_normalised, \"butyrate\", \"propionate\", \"disease\")"
   ]
  },
  {
   "cell_type": "markdown",
   "metadata": {},
   "source": [
    "## line graphs"
   ]
  },
  {
   "cell_type": "code",
   "execution_count": null,
   "metadata": {},
   "outputs": [],
   "source": [
    "with_metadata_prop_but_percent_change"
   ]
  },
  {
   "cell_type": "code",
   "execution_count": null,
   "metadata": {},
   "outputs": [],
   "source": [
    "plotScatterLine(df=with_metadata_prop_but_percent_change, x_data = \"age\", y_data = \"BTR % - PROP %\")\n",
    "plt.show()"
   ]
  },
  {
   "cell_type": "code",
   "execution_count": null,
   "metadata": {},
   "outputs": [],
   "source": [
    "plotScatterLine(df=with_metadata_prop_but_percent_change, x_data = \"age\", y_data = \"BTR - PROP\")\n",
    "plt.show()"
   ]
  },
  {
   "cell_type": "code",
   "execution_count": null,
   "metadata": {},
   "outputs": [],
   "source": [
    "plotScatterLine(df=with_metadata_prop_but_percent_change, x_data = \"infant_age\", y_data = \"BTR % - PROP %\")\n",
    "plt.show()"
   ]
  },
  {
   "cell_type": "code",
   "execution_count": null,
   "metadata": {},
   "outputs": [],
   "source": [
    "# plotScatterLine(df=with_metadata_prop_but_percent_change, x_data = \"infant_age\", y_data = \"BTR - PROP\")\n",
    "# plt.show()"
   ]
  },
  {
   "cell_type": "code",
   "execution_count": null,
   "metadata": {},
   "outputs": [],
   "source": [
    "plotScatterLine(df=with_metadata_prop_but_percent_change, x_data = \"infant_age\", y_data = \"propionate\")\n",
    "plt.show()"
   ]
  },
  {
   "cell_type": "code",
   "execution_count": null,
   "metadata": {},
   "outputs": [],
   "source": [
    "name = \"Relative Abundance of BTR Pathways\\nVs. Infant Age (days)\"\n",
    "\n",
    "g = plotScatterLine(df=with_metadata_prop_but_percent_change, x_data = \"Infant Age (days)\", y_data = \"butyrate\", name=name)\n",
    "\n",
    "df = with_metadata_prop_but_percent_change[[\"Infant Age (days)\", \"butyrate\"]].dropna()\n",
    "\n",
    "# def annotate(data, **kws):\n",
    "#     r, p = sp.stats.pearsonr(df['Infant Age (days)'], df['butyrate'])\n",
    "#     ax = plt.gca()\n",
    "#     ax.text(.05, .8, 'r={:.2f}, p={:.2g}'.format(r, p),\n",
    "#             transform=ax.transAxes)\n",
    "    \n",
    "# g.map_dataframe(annotate)\n",
    "\n",
    "plt.show()"
   ]
  },
  {
   "cell_type": "code",
   "execution_count": null,
   "metadata": {},
   "outputs": [],
   "source": [
    "plotViolin(df=with_metadata_prop_but_percent_change, x_data = \"age_category\", y_data = \"BTR - PROP\", c_data=\"age_category\")\n",
    "plt.show()"
   ]
  },
  {
   "cell_type": "code",
   "execution_count": null,
   "metadata": {},
   "outputs": [],
   "source": [
    "plotViolin(df=with_metadata_prop_but_percent_change, x_data = \"age_category\", y_data = \"BTR % - PROP %\", c_data=\"age_category\")\n",
    "plt.show()"
   ]
  },
  {
   "cell_type": "code",
   "execution_count": null,
   "metadata": {},
   "outputs": [],
   "source": [
    "plotViolin(df=with_metadata_prop_but_percent_change, x_data = \"age_category\", y_data = \"butyrate\", c_data=\"age_category\")\n",
    "plt.show()"
   ]
  },
  {
   "cell_type": "code",
   "execution_count": null,
   "metadata": {},
   "outputs": [],
   "source": [
    "plotViolin(df=with_metadata_prop_but_percent_change, x_data = \"feeding_practice\", y_data = \"BTR % - PROP %\", c_data=\"feeding_practice\")\n",
    "plt.show()"
   ]
  },
  {
   "cell_type": "code",
   "execution_count": null,
   "metadata": {},
   "outputs": [],
   "source": [
    "plotViolin(df=with_metadata_prop_but_percent_change, x_data = \"feeding_practice\", y_data = \"BTR - PROP\", c_data=\"feeding_practice\")\n",
    "plt.show()"
   ]
  },
  {
   "cell_type": "code",
   "execution_count": null,
   "metadata": {},
   "outputs": [],
   "source": [
    "plotViolin(df=with_metadata_prop_but_percent_change, x_data = \"feeding_practice\", y_data = \"butyrate\", c_data=\"feeding_practice\")\n",
    "plt.show()"
   ]
  },
  {
   "cell_type": "code",
   "execution_count": null,
   "metadata": {},
   "outputs": [],
   "source": [
    "age_violin_df = violinDF(with_metadata_prop_but_percent_change, \"age_category\")\n",
    "\n",
    "age_violin_df = age_violin_df.rename(columns={\"age_category\": \"Age\", \"variable\": \"Pathway\"})\n",
    "\n",
    "adjusted_names = []\n",
    "\n",
    "adjusted_pathways = []\n",
    "\n",
    "adjusted_names_dict = {\n",
    "    \"Newborn\": \"Newborn\\n≤ 1 month\",\n",
    "    \"Infant\": \"Infant\\n(1 month to 1 year)\",\n",
    "    \"Child\": \"Child\\n(1 to 12 years)\",\n",
    "    \"Adolescent\": \"Adolescent\\n(13 to 17 years)\",\n",
    "    \"Adult\": \"Adult\\n≥ 18 years\",\n",
    "    \"Older Adult\": \"Older Adult\\n≥ 65\",\n",
    "    np.nan: np.nan\n",
    "}\n",
    "\n",
    "adjusted_pathways_dict = {\n",
    "    \"butyrate\": \"BTR\",\n",
    "    \"propionate\": \"PROP\"\n",
    "}\n",
    "\n",
    "for curr in age_violin_df.Age:\n",
    "    adjusted_names.append(adjusted_names_dict[curr])\n",
    "\n",
    "for curr in age_violin_df.Pathway:\n",
    "    adjusted_pathways.append(adjusted_pathways_dict[curr])\n",
    "\n",
    "\n",
    "age_violin_df[\"Age\"] = adjusted_names\n",
    "\n",
    "age_violin_df[\"Pathway\"] = adjusted_pathways"
   ]
  },
  {
   "cell_type": "code",
   "execution_count": null,
   "metadata": {},
   "outputs": [],
   "source": [
    "age_violin_df"
   ]
  },
  {
   "cell_type": "code",
   "execution_count": null,
   "metadata": {},
   "outputs": [],
   "source": [
    "title = \"Relative Abundance of BTR and PROP Pathways Vs. Age\"\n",
    "\n",
    "plotViolin(df=age_violin_df, x_data = \"Age\", order_list=[\"Newborn\\n≤ 1 month\", \"Infant\\n(1 month to 1 year)\", \"Adult\\n≥ 18 years\", \"Older Adult\\n≥ 65\"], y_data = \"Relative Abundance\", c_data=\"Pathway\", split_option=True, name=title)\n",
    "plt.show()"
   ]
  },
  {
   "cell_type": "code",
   "execution_count": null,
   "metadata": {},
   "outputs": [],
   "source": [
    "title = \"Relative Abundance of BTR and PROP Pathways Vs. Age\"\n",
    "\n",
    "plotStrip(df=age_violin_df, x_data = \"Age\", order_list=[\"Newborn\\n≤ 1 month\", \"Infant\\n(1 month to 1 year)\", \"Adult\\n≥ 18 years\", \"Older Adult\\n≥ 65\"], y_data = \"Relative Abundance\", c_data=\"Pathway\", name=title)\n",
    "plt.show()"
   ]
  },
  {
   "cell_type": "markdown",
   "metadata": {},
   "source": [
    "#### data preprocessing before I plot the graphs for feeding practices"
   ]
  },
  {
   "cell_type": "code",
   "execution_count": null,
   "metadata": {},
   "outputs": [],
   "source": [
    "feeding_practice_df = violinDF(with_metadata_prop_but_percent_change, \"feeding_practice\")\n",
    "\n",
    "adjusted_names = []\n",
    "\n",
    "feeding_practice_names = {\n",
    "    \"exclusively_breastfeeding\": \"Exclusively\\nBreastfeeding\",\n",
    "    \"mixed_feeding\": \"Mixed\\nFeeding\",\n",
    "    \"any_breastfeeding\": \"Any\\nBreastfeeding\",\n",
    "    \"no_breastfeeding\": \"No\\nBreastfeeding\",\n",
    "    \"exclusively_formula_feeding\": \"Exclusively\\nFormula\\nFeeding\",\n",
    "    np.nan: np.nan\n",
    "}\n",
    "\n",
    "for curr in feeding_practice_df.feeding_practice:\n",
    "    adjusted_names.append(feeding_practice_names[curr])\n",
    "\n",
    "feeding_practice_df[\"feeding_practice\"] = adjusted_names\n",
    "\n",
    "adjusted_pathways = []\n",
    "\n",
    "adjusted_pathways_dict = {\n",
    "    \"butyrate\": \"BTR\",\n",
    "    \"propionate\": \"PROP\"\n",
    "}\n",
    "\n",
    "for curr in feeding_practice_df.variable:\n",
    "    adjusted_pathways.append(adjusted_pathways_dict[curr])\n",
    "\n",
    "feeding_practice_df[\"variable\"] = adjusted_pathways\n",
    "\n",
    "\n",
    "feeding_practice_df = feeding_practice_df.rename(columns={\"feeding_practice\": \"Feeding Practice\"}).rename(columns={\"variable\": \"Pathway\"})"
   ]
  },
  {
   "cell_type": "code",
   "execution_count": null,
   "metadata": {},
   "outputs": [],
   "source": [
    "feeding_practice_df"
   ]
  },
  {
   "cell_type": "code",
   "execution_count": null,
   "metadata": {},
   "outputs": [],
   "source": [
    "title = \"Relative Abundance of BTR and PROP Pathways Vs. Feeding Practices\"\n",
    "\n",
    "plotViolin(df=feeding_practice_df, x_data = \"Feeding Practice\", order_list=[\"Exclusively\\nBreastfeeding\", \"Mixed\\nFeeding\", \"Any\\nBreastfeeding\", \"No\\nBreastfeeding\", \"Exclusively\\nFormula\\nFeeding\"], y_data = \"Relative Abundance\", c_data=\"Pathway\", split_option=True, name=title)\n",
    "\n",
    "plt.show()"
   ]
  },
  {
   "cell_type": "code",
   "execution_count": null,
   "metadata": {},
   "outputs": [],
   "source": [
    "title = \"Relative Abundance of BTR and PROP Pathways Vs. Feeding Practices\"\n",
    "\n",
    "plotStrip(df=feeding_practice_df, x_data = \"Feeding Practice\", order_list=[\"Exclusively\\nBreastfeeding\", \"Mixed\\nFeeding\", \"Any\\nBreastfeeding\", \"No\\nBreastfeeding\", \"Exclusively\\nFormula\\nFeeding\"], y_data = \"Relative Abundance\", c_data=\"Pathway\", name=title)\n",
    "\n",
    "plt.show()"
   ]
  },
  {
   "cell_type": "code",
   "execution_count": null,
   "metadata": {},
   "outputs": [],
   "source": []
  }
 ],
 "metadata": {
  "kernelspec": {
   "display_name": "Python 3.11.4 ('pathway_abundance')",
   "language": "python",
   "name": "python3"
  },
  "language_info": {
   "codemirror_mode": {
    "name": "ipython",
    "version": 3
   },
   "file_extension": ".py",
   "mimetype": "text/x-python",
   "name": "python",
   "nbconvert_exporter": "python",
   "pygments_lexer": "ipython3",
   "version": "3.11.4"
  },
  "orig_nbformat": 4,
  "vscode": {
   "interpreter": {
    "hash": "fe830e55702ed5d1a418e856f39da784e7da7ed40fb81b27836f6ec2261e36fe"
   }
  }
 },
 "nbformat": 4,
 "nbformat_minor": 2
}
