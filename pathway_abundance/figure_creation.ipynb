{
 "cells": [
  {
   "cell_type": "markdown",
   "metadata": {},
   "source": [
    "# PATHWAY ABUNDANCE MANIPULATION\n",
    "\n",
    "This file focuses only on calculating relative pathway abundance, adding metadata, and cleaning up the data. \n",
    "\n",
    "This pipeline was last edited by Yu Han Daisy Wang on 28 August 2023."
   ]
  },
  {
   "cell_type": "markdown",
   "metadata": {},
   "source": [
    "## step 0: load all relevant/needed packages"
   ]
  },
  {
   "cell_type": "code",
   "execution_count": 15,
   "metadata": {},
   "outputs": [],
   "source": [
    "import seaborn as sns\n",
    "import matplotlib as mpl\n",
    "import matplotlib.pyplot as plt\n",
    "import pandas as pd\n",
    "import numpy as np\n",
    "from matplotlib import font_manager"
   ]
  },
  {
   "cell_type": "markdown",
   "metadata": {},
   "source": [
    "---\n",
    "# **RELOAD DATA HERE!**\n",
    "---\n"
   ]
  },
  {
   "cell_type": "code",
   "execution_count": 16,
   "metadata": {},
   "outputs": [],
   "source": [
    "with_metadata_prop_but_normalised = pd.read_csv(\"output/with_metadata_prop_but_normalised.csv\").set_index(\"Unnamed: 0.1\")\n",
    "\n",
    "with_metadata_overall_group_normalised = pd.read_csv(\"output/with_metadata_overall_group_normalised.csv\").set_index(\"Unnamed: 0.1\")\n",
    "\n",
    "with_metadata_prop_but_percent_change = pd.read_csv(\"output/with_metadata_prop_but_percent_change.csv\").set_index(\"Unnamed: 0.1\")\n",
    "\n",
    "with_phylum = pd.read_csv(\"output/with_phylum.csv\").set_index(\"NCBI_accession\")"
   ]
  },
  {
   "cell_type": "markdown",
   "metadata": {},
   "source": [
    "### now lets normalise for percentage\n",
    "\n",
    "Both of these functions simply convert everything from regular stuff to percentages.\n",
    "\n",
    "`percentageNormaliseOne` does normalisation correctly if there is no metadata attached. It requires the given data to have the **pathways** as the index, and the **samples** as the columns.\n",
    "\n",
    "`percentageNormaliseTwo` does normalisation correctly only if there is metadata attached. It requires the given data to have the **samples** as the index, and **pathways** as the columns. It also accounts for the case of dividing by 0, in which it just fills in `np.nan`."
   ]
  },
  {
   "cell_type": "code",
   "execution_count": 17,
   "metadata": {},
   "outputs": [],
   "source": [
    "def percentageNormaliseOne(df):\n",
    "\n",
    "    new = df.copy()\n",
    "\n",
    "    summed = df.sum(axis=0)\n",
    "\n",
    "    for row in df.index:\n",
    "\n",
    "        new.loc[row] = df.loc[row].div(summed)\n",
    "\n",
    "    return new\n",
    "\n",
    "def percentageNormaliseTwo(df, pathways):\n",
    "    \"\"\"\n",
    "    df = dataframe you wish to work with\n",
    "    pathways = the pathways that you wish to consider in this normalisation\n",
    "    \"\"\"\n",
    "\n",
    "    summed = df[pathways[0]].add(df[pathways[1]])\n",
    "\n",
    "    for pathway in pathways:\n",
    "\n",
    "        pathway_name = pathway+\"%\"\n",
    "        \n",
    "        df[pathway_name] = df[pathway].div(summed)\n",
    "\n",
    "        df.loc[~np.isfinite(df[pathway_name]), pathway_name] = np.nan\n",
    "\n",
    "    return df.transpose()"
   ]
  },
  {
   "cell_type": "markdown",
   "metadata": {},
   "source": [
    "## Some more last minute data wrangling!\n",
    "\n",
    "### Here's some stuff about healthy adults"
   ]
  },
  {
   "cell_type": "code",
   "execution_count": 18,
   "metadata": {},
   "outputs": [],
   "source": [
    "healthy_overall_group_noramlised = with_metadata_overall_group_normalised.loc[with_metadata_overall_group_normalised['disease'] == \"healthy\"]\n",
    "\n",
    "healthy_prop_but_noramlised = with_metadata_prop_but_percent_change.loc[with_metadata_prop_but_percent_change['disease'] == \"healthy\"]\n",
    "\n",
    "adult_healthy_overall_group_normalised = healthy_overall_group_noramlised.loc[healthy_overall_group_noramlised[\"age\"] >= 18]\n",
    "\n",
    "adult_health_prop_but_normalised = with_metadata_prop_but_percent_change.loc[with_metadata_prop_but_percent_change[\"age\"] >= 18]"
   ]
  },
  {
   "cell_type": "markdown",
   "metadata": {},
   "source": [
    "### Here's some stuff about bacteroidetes vs firmicutes\n",
    "\n",
    "`bacteroidetes_vs_firmicutes` gives you the abundance of bacteroidetes vs the abundance of firmicutes for ALL samples\n",
    "\n",
    "`adult_healthy_bacteroidetes_vs_firmicutes` gives you the abundance of bacteroidetes vs the abundance of firmicutes for ALL HEALTHY ADULT samples"
   ]
  },
  {
   "cell_type": "code",
   "execution_count": 19,
   "metadata": {},
   "outputs": [
    {
     "data": {
      "text/html": [
       "<div>\n",
       "<style scoped>\n",
       "    .dataframe tbody tr th:only-of-type {\n",
       "        vertical-align: middle;\n",
       "    }\n",
       "\n",
       "    .dataframe tbody tr th {\n",
       "        vertical-align: top;\n",
       "    }\n",
       "\n",
       "    .dataframe thead th {\n",
       "        text-align: right;\n",
       "    }\n",
       "</style>\n",
       "<table border=\"1\" class=\"dataframe\">\n",
       "  <thead>\n",
       "    <tr style=\"text-align: right;\">\n",
       "      <th>NCBI_accession</th>\n",
       "      <th>ERR4330026</th>\n",
       "      <th>ERR4330027</th>\n",
       "      <th>ERR4330028</th>\n",
       "      <th>ERR4330029</th>\n",
       "      <th>ERR4330030</th>\n",
       "      <th>ERR4330031</th>\n",
       "      <th>ERR4330032</th>\n",
       "      <th>ERR4330033</th>\n",
       "      <th>ERR4330034</th>\n",
       "      <th>ERR4330035</th>\n",
       "      <th>...</th>\n",
       "      <th>NaN</th>\n",
       "      <th>NaN</th>\n",
       "      <th>NaN</th>\n",
       "      <th>NaN</th>\n",
       "      <th>NaN</th>\n",
       "      <th>NaN</th>\n",
       "      <th>NaN</th>\n",
       "      <th>NaN</th>\n",
       "      <th>NaN</th>\n",
       "      <th>NaN</th>\n",
       "    </tr>\n",
       "  </thead>\n",
       "  <tbody>\n",
       "    <tr>\n",
       "      <th>Firmicutes</th>\n",
       "      <td>27.71216</td>\n",
       "      <td>41.37050</td>\n",
       "      <td>43.70317</td>\n",
       "      <td>33.88667</td>\n",
       "      <td>59.64222</td>\n",
       "      <td>43.99187</td>\n",
       "      <td>31.28870</td>\n",
       "      <td>64.93870</td>\n",
       "      <td>47.43638</td>\n",
       "      <td>19.93554</td>\n",
       "      <td>...</td>\n",
       "      <td>16.59618</td>\n",
       "      <td>10.50896</td>\n",
       "      <td>14.46574</td>\n",
       "      <td>24.15066</td>\n",
       "      <td>31.21463</td>\n",
       "      <td>44.78141</td>\n",
       "      <td>36.31200</td>\n",
       "      <td>59.3616</td>\n",
       "      <td>68.22818</td>\n",
       "      <td>35.96867</td>\n",
       "    </tr>\n",
       "    <tr>\n",
       "      <th>Bacteroidetes</th>\n",
       "      <td>64.86127</td>\n",
       "      <td>54.68318</td>\n",
       "      <td>34.64965</td>\n",
       "      <td>61.13726</td>\n",
       "      <td>35.83284</td>\n",
       "      <td>48.15292</td>\n",
       "      <td>63.60274</td>\n",
       "      <td>32.86029</td>\n",
       "      <td>36.27032</td>\n",
       "      <td>68.64813</td>\n",
       "      <td>...</td>\n",
       "      <td>80.57261</td>\n",
       "      <td>85.14478</td>\n",
       "      <td>83.65760</td>\n",
       "      <td>75.27369</td>\n",
       "      <td>67.96384</td>\n",
       "      <td>48.82434</td>\n",
       "      <td>59.20388</td>\n",
       "      <td>36.2418</td>\n",
       "      <td>31.06421</td>\n",
       "      <td>59.77691</td>\n",
       "    </tr>\n",
       "  </tbody>\n",
       "</table>\n",
       "<p>2 rows × 1317 columns</p>\n",
       "</div>"
      ],
      "text/plain": [
       "NCBI_accession  ERR4330026  ERR4330027  ERR4330028  ERR4330029  ERR4330030  \\\n",
       "Firmicutes        27.71216    41.37050    43.70317    33.88667    59.64222   \n",
       "Bacteroidetes     64.86127    54.68318    34.64965    61.13726    35.83284   \n",
       "\n",
       "NCBI_accession  ERR4330031  ERR4330032  ERR4330033  ERR4330034  ERR4330035  \\\n",
       "Firmicutes        43.99187    31.28870    64.93870    47.43638    19.93554   \n",
       "Bacteroidetes     48.15292    63.60274    32.86029    36.27032    68.64813   \n",
       "\n",
       "NCBI_accession  ...       NaN       NaN       NaN       NaN       NaN  \\\n",
       "Firmicutes      ...  16.59618  10.50896  14.46574  24.15066  31.21463   \n",
       "Bacteroidetes   ...  80.57261  85.14478  83.65760  75.27369  67.96384   \n",
       "\n",
       "NCBI_accession       NaN       NaN      NaN       NaN       NaN  \n",
       "Firmicutes      44.78141  36.31200  59.3616  68.22818  35.96867  \n",
       "Bacteroidetes   48.82434  59.20388  36.2418  31.06421  59.77691  \n",
       "\n",
       "[2 rows x 1317 columns]"
      ]
     },
     "execution_count": 19,
     "metadata": {},
     "output_type": "execute_result"
    }
   ],
   "source": [
    "bacteroidetes_vs_firmicutes = with_phylum[[\"Bacteroidetes\", \"Firmicutes\"]]\n",
    "\n",
    "bacteroidetes_vs_firmicutes = bacteroidetes_vs_firmicutes.reindex([\"Firmicutes\", \"Bacteroidetes\"], axis=\"columns\").transpose()\n",
    "\n",
    "adult_healthy_bacteroidetes_vs_firmicutes = with_phylum[[\"Bacteroidetes\", \"Firmicutes\", \"age\", \"disease\"]]\n",
    "\n",
    "adult_healthy_bacteroidetes_vs_firmicutes = adult_healthy_bacteroidetes_vs_firmicutes.loc[adult_healthy_bacteroidetes_vs_firmicutes[\"age\"] >= 18]\n",
    "\n",
    "adult_healthy_bacteroidetes_vs_firmicutes = adult_healthy_bacteroidetes_vs_firmicutes.loc[adult_healthy_bacteroidetes_vs_firmicutes[\"disease\"] == \"healthy\"]\n",
    "\n",
    "adult_healthy_bacteroidetes_vs_firmicutes = adult_healthy_bacteroidetes_vs_firmicutes.drop([\"age\", \"disease\"], axis=1).reindex([\"Firmicutes\", \"Bacteroidetes\"], axis=\"columns\").transpose()\n",
    "\n",
    "adult_healthy_bacteroidetes_vs_firmicutes"
   ]
  },
  {
   "cell_type": "markdown",
   "metadata": {},
   "source": [
    "---\n",
    "# PLOTTING TIME\n",
    "---"
   ]
  },
  {
   "cell_type": "markdown",
   "metadata": {},
   "source": [
    "### This next part just sets up custom fonts given the files for the fonts\n",
    "I currently have the font set to Hind (https://fonts.google.com/specimen/Hind), but feel free to switch it to anything else. Feel free to also just ignore the custom fonts and use default fonts.\n",
    "\n",
    "`font_dirs = [\"Hind\"]`: set `Hind` to the name/path to the folder that you end up using to store all the files for your fonts. The fonts should all `.ttf` files."
   ]
  },
  {
   "cell_type": "code",
   "execution_count": 8,
   "metadata": {},
   "outputs": [],
   "source": [
    "font_dirs = [\"Hind\"]\n",
    "font_files = font_manager.findSystemFonts(fontpaths=font_dirs)\n",
    "\n",
    "# use the font manager to fully download fonts\n",
    "for font_file in font_files:\n",
    "    font_manager.fontManager.addfont(font_file)\n",
    "\n",
    "# the actual line that sets the font\n",
    "plt.rcParams['font.family'] = \"Hind\""
   ]
  },
  {
   "cell_type": "markdown",
   "metadata": {},
   "source": [
    "### defining functions to make some basic stacked bar plots\n",
    "\n",
    "`stackedBarDF` takes a dataframe and makes it suitable for making stacked bar plots\n",
    "\n",
    "`plotStackedBar` takes a data frame and plots it as a stacked bar plot. It simply takes the given parameters and plots the graph as is.\n",
    "\n",
    "`sortedStackedBar` takes a data frame, sorts it by the given value (`sortBy`), then plugs all of that information into `plotStackedBar`."
   ]
  },
  {
   "cell_type": "code",
   "execution_count": 20,
   "metadata": {},
   "outputs": [],
   "source": [
    "def stackedBarDF(overall_pathway_df):\n",
    "    \"\"\"\n",
    "    overall_pathway_df = dataframe you wish to use\n",
    "    \"\"\"\n",
    "    temp_table = overall_pathway_df.transpose()\n",
    "\n",
    "    temp_dict = {}\n",
    "\n",
    "    for column in temp_table:\n",
    "\n",
    "        temp_dict[column] = temp_table[column].tolist()\n",
    "\n",
    "    samples_list = list(temp_table.index.values)\n",
    "\n",
    "    plottingDF = pd.DataFrame(\n",
    "        temp_dict,\n",
    "        index = samples_list\n",
    "    )\n",
    "\n",
    "    return plottingDF.fillna(0) \n",
    "\n",
    "def plotStackedBar(stackedBarDF, name=\"overall pathway groupby\", x_name=\"samples\"):\n",
    "    \"\"\"\n",
    "    stackedBarDF = dataframe you wish to work with\n",
    "    name = title of graph\n",
    "    x_name = the label that you'd like on the axis\n",
    "    \"\"\"\n",
    "\n",
    "    mpl.rcParams.update(mpl.rcParamsDefault)\n",
    "    n = len(stackedBarDF.columns)\n",
    "    colors = plt.cm.viridis(np.linspace(0, 1, n))\n",
    "\n",
    "    plt.rcParams.update({'font.size': 33})\n",
    "    plt.tight_layout()\n",
    "    plt.rcParams['figure.dpi']=600\n",
    "    plt.rcParams['font.family'] = \"Hind\"\n",
    "    \n",
    "    return stackedBarDF.plot(kind=\"bar\", stacked=True, color=colors, figsize=(25,7), xlabel=x_data, ylabel=\"relative pathway abundance\", title=name, xticks=([])).legend(loc=\"center left\", bbox_to_anchor=(1, 0.5))\n",
    "    \n",
    "def sortedStackedBar(stackedBarDF, sortBy, auto_name=False, x_name=\"samples\"):\n",
    "    \"\"\"\n",
    "    stackedBarDF = dataframe you wish to work with\n",
    "    sortBy = what column you wish to sort the data by\n",
    "    auto_name = whether not you'd like the automatically generated name. True or False. \n",
    "    x_name = the label that you'd like on the axis\n",
    "    \"\"\"\n",
    "    \n",
    "    name = \"Sorted by abundance of \" + sortBy if not auto_name else \"\"\n",
    "\n",
    "    return plotStackedBar(stackedBarDF.sort_values(by=sortBy), name, x_name)"
   ]
  },
  {
   "cell_type": "markdown",
   "metadata": {},
   "source": [
    "### defining stuff for scatter plots\n",
    "\n",
    "`plotScatter` simply plots a basic scatter graph for the x variable vs y variable.\n",
    "\n",
    "`plotScatterContinuous` plots a scatter graph for the x variable against the y variable, but using some **continuous** variable to create variations in hue of of the dots.\n",
    "\n",
    "`plotScatterContinuous` plots a scatter graph for the x variable against the y variable, but using some **discrete** variable to create variations in the hue of the dots."
   ]
  },
  {
   "cell_type": "code",
   "execution_count": 21,
   "metadata": {},
   "outputs": [],
   "source": [
    "def plotScatter(df, x_data, y_data):\n",
    "    \"\"\"\n",
    "    df = the dataframe you wish to work with\n",
    "    x_data = the name of the column you want on the x axis\n",
    "    y_data = the name of the column you want on the y axis\n",
    "    \"\"\"\n",
    "\n",
    "    plt.rcParams.update({'font.size': 23})\n",
    "    plt.tight_layout()\n",
    "    plt.rcParams['figure.dpi']=600\n",
    "    sns.set_style(\"darkgrid\")\n",
    "\n",
    "    # this title can be modified to fit whatever you need\n",
    "    name = \"Proportions of \" + x_data + \" producers versus\\n\" + y_data + \" producers for 1203 healthy adult samples\"\n",
    "    filename = x_data + \"_vs_\" + y_data\n",
    "    \n",
    "    fig = df.plot(kind=\"scatter\", x=x_data, y=y_data, figsize=(15,6),colormap=\"viridis\", xlabel=\"relative abundance of \" + x_data, ylabel=\"relative abundance of \" + y_data, title=name)\n",
    "\n",
    "    plt.show()\n",
    "\n",
    "def plotScatterContinuous(df, x_data, y_data, c_data):\n",
    "    \"\"\"\n",
    "    df = the dataframe you wish to work with\n",
    "    x_data = the name of the column you want on the x axis\n",
    "    y_data = the name of the column you want on the y axis\n",
    "    c_data = the name of the column you want to use to assign colors of the dots by, has to be continuous (age?)\n",
    "    \"\"\"\n",
    "\n",
    "    df = df.dropna(subset=[c_data], axis=0)\n",
    "\n",
    "    plt.rcParams.update({'font.size': 20})\n",
    "    plt.tight_layout()\n",
    "    plt.rcParams['figure.dpi']=600\n",
    "    sns.set_style(\"darkgrid\")\n",
    "\n",
    "    name = x_data + \" vs \" + y_data + \" with respect to \" + c_data\n",
    "    \n",
    "    fig = df.plot(kind=\"scatter\", x=x_data, y=y_data, c=c_data, colormap=\"viridis\", alpha=0.7, figsize=(15,5), xlabel=\"relative abundance of \" + x_data, ylabel=\"relative abundance of \" + y_data, title=name)\n",
    "\n",
    "def plotScatterDiscrete(df, x_data, y_data, c_data):\n",
    "    \"\"\"\n",
    "    df = the dataframe you wish to work with\n",
    "    x_data = the name of the column you want on the x axis\n",
    "    y_data = the name of the column you want on the y axis\n",
    "    c_data = the name of the column you want to use to assign colors of the dots by, has to be discrete (feeding practices?)\n",
    "    \"\"\"\n",
    "\n",
    "    name = x_data + \" vs \" + y_data + \" with respect to \" + c_data\n",
    "\n",
    "    sns.reset_defaults()\n",
    "    sns.set_style(\"darkgrid\")\n",
    "    plt.rcParams.update({'font.size': 20})\n",
    "\n",
    "    plt.rcParams['figure.dpi']=600\n",
    "    plt.figure(figsize=(14, 5))\n",
    "\n",
    "    sns.set_palette(wesanderson.film_palette(\"darjeeling\"))\n",
    "\n",
    "    sns.scatterplot(data=df,x=x_data, y=y_data, hue=c_data, alpha=0.5).set(xlabel=\"relative abundance of \" + x_data, ylabel=\"relative abundance of \" + y_data, title=name)\n",
    "    plt.show()"
   ]
  },
  {
   "cell_type": "markdown",
   "metadata": {},
   "source": [
    "### defining stuff for line/scatter plots\n",
    "\n",
    "`plotScatterLine` plots a scatter plot with a regression line. It's currently been set to plot a lowess curve, but this can be easily changed as needed. For more details on how to change that, this may be a helpful resource: https://seaborn.pydata.org/generated/seaborn.regplot.html\n",
    "\n",
    "`plotStrip` plots a strip plot. For each value in the x_data, it splits it into different categories based on the c_data. This difference is shown by a change in color. For more details on how to customise this, this may be a helpful resource: https://seaborn.pydata.org/generated/seaborn.stripplot.html"
   ]
  },
  {
   "cell_type": "code",
   "execution_count": 22,
   "metadata": {},
   "outputs": [],
   "source": [
    "def plotScatterLine(df, x_data, y_data, name):\n",
    "    \"\"\"\n",
    "    df = the dataframe that you want to work with\n",
    "    x_data = the name of the column you want on the x axis\n",
    "    y_data = the name of the column you want on the y axis\n",
    "    name = the title of the graph\n",
    "    \"\"\"\n",
    "    \n",
    "    sns.reset_defaults()\n",
    "    sns.set_style(\"darkgrid\")\n",
    "    plt.rcParams.update({'font.size': 53})\n",
    "    plt.rcParams['font.family'] = \"Hind\"\n",
    "    plt.rcParams['figure.dpi']=600\n",
    "    sns.set_palette(\"viridis\")\n",
    "    plt.figure(figsize=(31, 10))\n",
    "    \n",
    "    return sns.regplot(data=df, x=x_data, y=y_data, x_jitter=.05, lowess=True, scatter_kws={\"s\": 500, 'alpha': 0.3}).set(title=name, ylabel=\"Relative Abundance of BTR\")\n",
    "\n",
    "def plotStrip(df, x_data, y_data, c_data, order_list, name):\n",
    "    \"\"\"\n",
    "    df = the dataframe that you want to work with\n",
    "    x_data = the name of the column you want on the x axis\n",
    "    y_data = the name of the column you want on the y axis\n",
    "    c_data = the name of the column you want to use to seperate each category by/change the colors by (prop vs but?)\n",
    "    order_list = the order in which you want the items in the x axis on\n",
    "    name = title of the graph\n",
    "    \"\"\"\n",
    "    \n",
    "    sns.reset_defaults()\n",
    "    sns.set_style(\"darkgrid\")\n",
    "    plt.rcParams.update({'font.size': 53})\n",
    "    plt.rcParams['font.family'] = \"Hind\"\n",
    "    plt.rcParams['figure.dpi']=600\n",
    "    sns.set_palette(\"viridis\")\n",
    "    plt.figure(figsize=(31, 10))\n",
    "    \n",
    "    temp = df.reset_index()\n",
    "\n",
    "    sns.set_palette(\"viridis\")\n",
    "\n",
    "    sns.stripplot(data=temp, x=x_data, y=y_data, hue=c_data, order=order_list, dodge=True, alpha=0.4, s=15)"
   ]
  },
  {
   "cell_type": "markdown",
   "metadata": {},
   "source": [
    "### defining stuff for violin plots\n",
    "\n",
    "`violinDF` converts a data frame into the data format required for using the seaborn violin plot function. The key thing is that the data gets processed into long form data. \n",
    "\n",
    "`plotViolin` plots a split violin plot using the given dataframe. Useful reading: https://seaborn.pydata.org/generated/seaborn.violinplot.html\n",
    "- `cut = 0` means that it doesn't smooth the data past where the data exists\n",
    "- `inner=\"stick\"` means that it shows the quartiles as lines inside the plot\n",
    "-  `bw` is the bandwidth. tldr: higher bandwidth = more smoothening, less bandwith = less smoothening"
   ]
  },
  {
   "cell_type": "code",
   "execution_count": 23,
   "metadata": {},
   "outputs": [],
   "source": [
    "def violinDF(df, category):\n",
    "    \"\"\"\n",
    "    df = the dataframe that you wish to plot\n",
    "    category = name of the column containing the metadata tags that you want to bin your data for\n",
    "    for example, for me, category might have been \"feeding practices\"\n",
    "    \"\"\"\n",
    "\n",
    "    temp = pd.melt(df.reset_index(), id_vars=\"Unnamed: 0.1\", value_vars=[\"butyrate\", \"propionate\"])\n",
    "\n",
    "    temp = temp.set_index(\"Unnamed: 0.1\").rename(columns={\"value\": \"Relative Abundance\"})\n",
    "    \n",
    "    temp1 = df[[category]]\n",
    "\n",
    "    return temp.merge(temp1, how=\"left\", left_index=True, right_index=True)\n",
    "\n",
    "# set split option to be equal\n",
    "def plotViolin(df, x_data, y_data, c_data, order_list, split_option, name):\n",
    "    \"\"\"\n",
    "    df = the dataframe that you wish to plot\n",
    "    x_data = the name of the column that you wish to use for the x axis\n",
    "    y_data = the name of the column that you wish to use for the y axis\n",
    "    c_data = the name of the column that you wish to split the data by (in my case, it was propionate vs butyrate)\n",
    "    split_option = are we plotting a split violin plot or not? input True or False\n",
    "    name = title of the graph\n",
    "    \"\"\"\n",
    "\n",
    "    sns.reset_defaults()\n",
    "    sns.set_style(\"darkgrid\")\n",
    "    plt.rcParams.update({'font.size': 53})\n",
    "    plt.rcParams['font.family'] = \"Hind\"\n",
    "    plt.rcParams['figure.dpi']=600\n",
    "    plt.figure(figsize=(31, 10))\n",
    "    sns.set_palette(\"viridis_r\")\n",
    "\n",
    "    sns.violinplot(data=df, x=x_data, y=y_data, hue=c_data, order=order_list, cut=0, inner=\"stick\", split=split_option, bw=0.2).set(title=name)"
   ]
  },
  {
   "cell_type": "code",
   "execution_count": 13,
   "metadata": {},
   "outputs": [
    {
     "name": "stdout",
     "output_type": "stream",
     "text": [
      "Help on function plotViolin in module __main__:\n",
      "\n",
      "plotViolin(df, x_data, y_data, c_data, order_list, split_option, name)\n",
      "    df = the dataframe that you wish to plot\n",
      "    x_data = the name of the column that you wish to use for the x axis\n",
      "    y_data = the name of the column that you wish to use for the y axis\n",
      "    c_data = the name of the column that you wish to split the data by (in my case, it was propionate vs butyrate)\n",
      "    split_option = are we plotting a split violin plot or not? input True or False\n",
      "    name = title of the graph\n",
      "\n"
     ]
    }
   ],
   "source": [
    "help(plotViolin)"
   ]
  },
  {
   "cell_type": "code",
   "execution_count": null,
   "metadata": {},
   "outputs": [],
   "source": [
    "sort_acetylCoA_but = sortedStackedBar(normalised_unknown_overall_pathway_group, \"Ace (but)\", )"
   ]
  },
  {
   "cell_type": "markdown",
   "metadata": {},
   "source": [
    "### making normalised percentage bar charts?"
   ]
  },
  {
   "cell_type": "code",
   "execution_count": null,
   "metadata": {},
   "outputs": [],
   "source": [
    "overall_pathway_normalised_group_percent = percentageNormalise(normalised_unknown_overall_pathway_group)\n",
    "\n",
    "# unsorted_normalised_final_graph_percent = plotStackedBar(stackedBarDF(overall_pathway_normalised_group_percent), \"unsorted, noramlised, overall pathway group\")"
   ]
  },
  {
   "cell_type": "code",
   "execution_count": null,
   "metadata": {},
   "outputs": [],
   "source": [
    "adult_health_prop_but_normalised\n",
    "\n",
    "\n",
    "sort_but_normalised = sortedStackedBar(stackedBarDF=adult_health_prop_but_normalised, sortBy=\"butyrate_percent\", auto_name=\"title\", x_name=\"1973 samples across the Asnicar, Nayfach, and HMP 2019 studies\", percent=True)\n",
    "\n",
    "plt.show()"
   ]
  },
  {
   "cell_type": "code",
   "execution_count": null,
   "metadata": {},
   "outputs": [],
   "source": [
    "temp = adult_health_prop_but_normalised[[\"butyrate\", \"propionate\"]]\n",
    "\n",
    "temp = temp.rename(columns={\"butyrate\": \"BTR\", \"propionate\": \"PROP\"})\n",
    "\n",
    "adult_health_prop_but_percent = percentageNormaliseOne(temp.transpose())\n",
    "\n",
    "adult_healthy_sort_but_normalised = sortedStackedBar(adult_health_prop_but_percent.transpose(), sortBy=\"BTR\", auto_name=\"title\", x_name=\"1506 healthy adult samples\")\n",
    "\n",
    "plt.show()"
   ]
  },
  {
   "cell_type": "code",
   "execution_count": null,
   "metadata": {},
   "outputs": [],
   "source": [
    "sorted_adult_healthy_prop_but_percent_graph = sortedStackedBar(sorted_adult_healthy_prop_but_percent.transpose(), sortBy=\"BTR\", auto_name=\"title\", x_name=\"1098 healthy adult samples\")"
   ]
  },
  {
   "cell_type": "code",
   "execution_count": null,
   "metadata": {},
   "outputs": [],
   "source": [
    "temp = sorted_adult_healthy_bacteroidetes_vs_firmicutes_percent.transpose().reindex(columns=[\"Firmicutes\", \"Bacteroidetes\"])\n",
    "\n",
    "sorted_adult_healthy_bacteroidetes_vs_firmicutes_percent_graph = plotStackedBar(temp, \"Bacteroidetes Vs. Firmicutes, sorted by proportions of BTR\", \"1098 healthy adult samples\")\n",
    "plt.show()"
   ]
  },
  {
   "cell_type": "code",
   "execution_count": null,
   "metadata": {},
   "outputs": [],
   "source": [
    "sorted_acetylCoA_buk_normalised_percent = sortedStackedBar(overall_pathway_normalised_group_percent, \"acetylCoA_buk\")"
   ]
  },
  {
   "cell_type": "code",
   "execution_count": null,
   "metadata": {},
   "outputs": [],
   "source": [
    "sorted_acetylCoA_but_normalised_percent = sortedStackedBar(overall_pathway_normalised_group_percent, \"Ace (but)\", title=\"Pathway Variations in Healthy Individuals\", x_name=\"1973 samples across the Asnicar, Nayfach, and HMP 2019 studies\")"
   ]
  },
  {
   "cell_type": "code",
   "execution_count": null,
   "metadata": {},
   "outputs": [],
   "source": [
    "temp = adult_healthy_overall_group_normalised[list(pathway_length_dict.keys())]\n",
    "\n",
    "adult_healthy_overall_group_percent = percentageNormaliseOne(temp.transpose())\n",
    "\n",
    "adult_healthy_sort_acetylCoA_normalised = sortedStackedBar(adult_healthy_overall_group_percent.transpose(), sortBy=\"Ace (but)\", auto_name=\"title\", x_name=\"1506 healthy adult samples\")\n",
    "\n",
    "plt.show()"
   ]
  },
  {
   "cell_type": "code",
   "execution_count": null,
   "metadata": {},
   "outputs": [],
   "source": [
    "sorted_propanediol_normalised_percent = sortedStackedBar(overall_pathway_normalised_group_percent, \"propanediol pathway\")"
   ]
  },
  {
   "cell_type": "code",
   "execution_count": null,
   "metadata": {},
   "outputs": [],
   "source": [
    "phylum_percentage_df = percentageNormaliseOne(bacteroidetes_vs_firmicutes)\n",
    "\n",
    "phylum_distribution_unsorted = plotStackedBar(stackedBarDF(phylum_percentage_df), \"unsorted, noramlised, bacteroidetes vs firmicutes\")\n",
    "\n",
    "plt.show()"
   ]
  },
  {
   "cell_type": "code",
   "execution_count": null,
   "metadata": {},
   "outputs": [],
   "source": [
    "sorted_bacteroidetes_normalised_percent = sortedStackedBar(phylum_percentage_df, \"Firmicutes\", autoname=True, x_name = \"3584 samples\")\n",
    "plt.show()"
   ]
  },
  {
   "cell_type": "code",
   "execution_count": null,
   "metadata": {},
   "outputs": [],
   "source": [
    "adult_healthy_phylum_percentage_df = percentageNormaliseOne(adult_healthy_bacteroidetes_vs_firmicutes).transpose()\n",
    "\n",
    "adult_healthy_sorted_bacteroidetes_normalised_percent = sortedStackedBar(adult_healthy_phylum_percentage_df, \"Firmicutes\", x_name = \"1506 healthy adult samples\", percent=False)\n",
    "plt.show()"
   ]
  },
  {
   "cell_type": "markdown",
   "metadata": {},
   "source": [
    "### scatter plots"
   ]
  },
  {
   "cell_type": "code",
   "execution_count": null,
   "metadata": {},
   "outputs": [],
   "source": [
    "temp = adult_health_prop_but_normalised[[\"butyrate\", \"propionate\"]]\n",
    "\n",
    "healthy_adult_prop_vs_but_graph = plotScatter(temp, x_data=\"butyrate\", y_data=\"propionate\")\n",
    "plt.show()"
   ]
  },
  {
   "cell_type": "code",
   "execution_count": null,
   "metadata": {},
   "outputs": [],
   "source": [
    "prop_vs_but = prop_but_groupby.transpose()\n",
    "\n",
    "prop_vs_but_graph = plotScatter(prop_vs_but, x_data=\"butyrate\", y_data=\"propionate\")\n",
    "plt.show()"
   ]
  },
  {
   "cell_type": "code",
   "execution_count": null,
   "metadata": {},
   "outputs": [],
   "source": [
    "age_graph = plotScatterContinuous(with_metadata_prop_but_normalised, \"butyrate\", \"propionate\", \"age\")\n",
    "plt.show()"
   ]
  },
  {
   "cell_type": "code",
   "execution_count": null,
   "metadata": {},
   "outputs": [],
   "source": [
    "age_graph_percent = plotScatterContinuous(with_metadata_prop_but_percent, \"butyrate\", \"propionate\")"
   ]
  },
  {
   "cell_type": "code",
   "execution_count": null,
   "metadata": {},
   "outputs": [],
   "source": [
    "age_graph = plotScatterContinuous(with_metadata_prop_but_normalised, \"butyrate\", \"propionate\", \"age\")\n",
    "plt.show()"
   ]
  },
  {
   "cell_type": "code",
   "execution_count": null,
   "metadata": {},
   "outputs": [],
   "source": [
    "age_graph_phyla = plotScatterContinuous(bacteroidetes_vs_firmicutes, \"butyrate\", \"propionate\", \"age\")\n",
    "plt.show()"
   ]
  },
  {
   "cell_type": "code",
   "execution_count": null,
   "metadata": {},
   "outputs": [],
   "source": [
    "feeding_practice_graph = plotScatterDiscrete(with_metadata_prop_but_normalised, \"butyrate\", \"propionate\", \"feeding practice\")"
   ]
  },
  {
   "cell_type": "markdown",
   "metadata": {},
   "source": [
    "## line graphs"
   ]
  },
  {
   "cell_type": "code",
   "execution_count": null,
   "metadata": {},
   "outputs": [],
   "source": [
    "name = \"Relative Abundance of BTR Pathways\\nVs. Infant Age (days)\"\n",
    "\n",
    "g = plotScatterLine(df=with_metadata_prop_but_percent_change, x_data = \"Infant Age (days)\", y_data = \"butyrate\", name=name)\n",
    "\n",
    "df = with_metadata_prop_but_percent_change[[\"Infant Age (days)\", \"butyrate\"]].dropna()\n",
    "\n",
    "# def annotate(data, **kws):\n",
    "#     r, p = sp.stats.pearsonr(df['Infant Age (days)'], df['butyrate'])\n",
    "#     ax = plt.gca()\n",
    "#     ax.text(.05, .8, 'r={:.2f}, p={:.2g}'.format(r, p),\n",
    "#             transform=ax.transAxes)\n",
    "    \n",
    "# g.map_dataframe(annotate)\n",
    "\n",
    "plt.show()"
   ]
  },
  {
   "cell_type": "code",
   "execution_count": null,
   "metadata": {},
   "outputs": [],
   "source": [
    "age_violin_df = violinDF(with_metadata_prop_but_percent_change, \"age_category\")\n",
    "\n",
    "age_violin_df = age_violin_df.rename(columns={\"age_category\": \"Age\", \"variable\": \"Pathway\"})\n",
    "\n",
    "adjusted_names = []\n",
    "\n",
    "adjusted_pathways = []\n",
    "\n",
    "adjusted_names_dict = {\n",
    "    \"Newborn\": \"Newborn\\n≤ 1 month\",\n",
    "    \"Infant\": \"Infant\\n(1 month to 1 year)\",\n",
    "    \"Child\": \"Child\\n(1 to 12 years)\",\n",
    "    \"Adolescent\": \"Adolescent\\n(13 to 17 years)\",\n",
    "    \"Adult\": \"Adult\\n≥ 18 years\",\n",
    "    \"Older Adult\": \"Older Adult\\n≥ 65\",\n",
    "    np.nan: np.nan\n",
    "}\n",
    "\n",
    "adjusted_pathways_dict = {\n",
    "    \"butyrate\": \"BTR\",\n",
    "    \"propionate\": \"PROP\"\n",
    "}\n",
    "\n",
    "for curr in age_violin_df.Age:\n",
    "    adjusted_names.append(adjusted_names_dict[curr])\n",
    "\n",
    "for curr in age_violin_df.Pathway:\n",
    "    adjusted_pathways.append(adjusted_pathways_dict[curr])\n",
    "\n",
    "\n",
    "age_violin_df[\"Age\"] = adjusted_names\n",
    "\n",
    "age_violin_df[\"Pathway\"] = adjusted_pathways"
   ]
  },
  {
   "cell_type": "code",
   "execution_count": null,
   "metadata": {},
   "outputs": [],
   "source": [
    "title = \"Relative Abundance of BTR and PROP Pathways Vs. Age\"\n",
    "\n",
    "plotViolin(df=age_violin_df, x_data = \"Age\", order_list=[\"Newborn\\n≤ 1 month\", \"Infant\\n(1 month to 1 year)\", \"Adult\\n≥ 18 years\", \"Older Adult\\n≥ 65\"], y_data = \"Relative Abundance\", c_data=\"Pathway\", split_option=True, name=title)\n",
    "plt.show()"
   ]
  },
  {
   "cell_type": "code",
   "execution_count": null,
   "metadata": {},
   "outputs": [],
   "source": [
    "title = \"Relative Abundance of BTR and PROP Pathways Vs. Age\"\n",
    "\n",
    "plotStrip(df=age_violin_df, x_data = \"Age\", order_list=[\"Newborn\\n≤ 1 month\", \"Infant\\n(1 month to 1 year)\", \"Adult\\n≥ 18 years\", \"Older Adult\\n≥ 65\"], y_data = \"Relative Abundance\", c_data=\"Pathway\", name=title)\n",
    "plt.show()"
   ]
  },
  {
   "cell_type": "markdown",
   "metadata": {},
   "source": [
    "#### data preprocessing before I plot the graphs for feeding practices"
   ]
  },
  {
   "cell_type": "code",
   "execution_count": null,
   "metadata": {},
   "outputs": [],
   "source": [
    "feeding_practice_df = violinDF(with_metadata_prop_but_percent_change, \"feeding_practice\")\n",
    "\n",
    "adjusted_names = []\n",
    "\n",
    "feeding_practice_names = {\n",
    "    \"exclusively_breastfeeding\": \"Exclusively\\nBreastfeeding\",\n",
    "    \"mixed_feeding\": \"Mixed\\nFeeding\",\n",
    "    \"any_breastfeeding\": \"Any\\nBreastfeeding\",\n",
    "    \"no_breastfeeding\": \"No\\nBreastfeeding\",\n",
    "    \"exclusively_formula_feeding\": \"Exclusively\\nFormula\\nFeeding\",\n",
    "    np.nan: np.nan\n",
    "}\n",
    "\n",
    "for curr in feeding_practice_df.feeding_practice:\n",
    "    adjusted_names.append(feeding_practice_names[curr])\n",
    "\n",
    "feeding_practice_df[\"feeding_practice\"] = adjusted_names\n",
    "\n",
    "adjusted_pathways = []\n",
    "\n",
    "adjusted_pathways_dict = {\n",
    "    \"butyrate\": \"BTR\",\n",
    "    \"propionate\": \"PROP\"\n",
    "}\n",
    "\n",
    "for curr in feeding_practice_df.variable:\n",
    "    adjusted_pathways.append(adjusted_pathways_dict[curr])\n",
    "\n",
    "feeding_practice_df[\"variable\"] = adjusted_pathways\n",
    "\n",
    "\n",
    "feeding_practice_df = feeding_practice_df.rename(columns={\"feeding_practice\": \"Feeding Practice\"}).rename(columns={\"variable\": \"Pathway\"})"
   ]
  },
  {
   "cell_type": "code",
   "execution_count": null,
   "metadata": {},
   "outputs": [],
   "source": [
    "title = \"Relative Abundance of BTR and PROP Pathways Vs. Feeding Practices\"\n",
    "\n",
    "plotViolin(df=feeding_practice_df, x_data = \"Feeding Practice\", order_list=[\"Exclusively\\nBreastfeeding\", \"Mixed\\nFeeding\", \"Any\\nBreastfeeding\", \"No\\nBreastfeeding\", \"Exclusively\\nFormula\\nFeeding\"], y_data = \"Relative Abundance\", c_data=\"Pathway\", split_option=True, name=title)\n",
    "\n",
    "plt.show()"
   ]
  },
  {
   "cell_type": "code",
   "execution_count": null,
   "metadata": {},
   "outputs": [],
   "source": [
    "title = \"Relative Abundance of BTR and PROP Pathways Vs. Feeding Practices\"\n",
    "\n",
    "plotStrip(df=feeding_practice_df, x_data = \"Feeding Practice\", order_list=[\"Exclusively\\nBreastfeeding\", \"Mixed\\nFeeding\", \"Any\\nBreastfeeding\", \"No\\nBreastfeeding\", \"Exclusively\\nFormula\\nFeeding\"], y_data = \"Relative Abundance\", c_data=\"Pathway\", name=title)\n",
    "\n",
    "plt.show()"
   ]
  }
 ],
 "metadata": {
  "kernelspec": {
   "display_name": "Python 3.11.4 ('pathway_abundance')",
   "language": "python",
   "name": "python3"
  },
  "language_info": {
   "codemirror_mode": {
    "name": "ipython",
    "version": 3
   },
   "file_extension": ".py",
   "mimetype": "text/x-python",
   "name": "python",
   "nbconvert_exporter": "python",
   "pygments_lexer": "ipython3",
   "version": "3.11.4"
  },
  "orig_nbformat": 4,
  "vscode": {
   "interpreter": {
    "hash": "fe830e55702ed5d1a418e856f39da784e7da7ed40fb81b27836f6ec2261e36fe"
   }
  }
 },
 "nbformat": 4,
 "nbformat_minor": 2
}
