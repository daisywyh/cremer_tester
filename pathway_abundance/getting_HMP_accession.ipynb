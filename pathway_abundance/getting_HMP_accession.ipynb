{
 "cells": [
  {
   "cell_type": "markdown",
   "metadata": {},
   "source": [
    "# GETTING HMP ACCESSION NUMBERS\n",
    "\n",
    "This file was just me attempting to get the HMP accession numbers\n",
    "\n",
    "This pipeline was last edited by Yu Han Daisy Wang on 29 August 2023."
   ]
  },
  {
   "cell_type": "markdown",
   "metadata": {},
   "source": [
    "## step 0: load all relevant/needed packages"
   ]
  },
  {
   "cell_type": "code",
   "execution_count": 1,
   "metadata": {},
   "outputs": [],
   "source": [
    "import pandas as pd\n",
    "import numpy as np"
   ]
  },
  {
   "cell_type": "markdown",
   "metadata": {},
   "source": [
    "### attempt to add the HMP samples with IBD"
   ]
  },
  {
   "cell_type": "code",
   "execution_count": null,
   "metadata": {},
   "outputs": [],
   "source": [
    "HMP_2019_runInfo = pd.read_csv(\"data_curated_microbiome/HMP_2019_runInfo.csv\").set_index(\"Sample\")\n",
    "HMP_2019_summary = pd.read_csv(\"data_curated_microbiome/HMP_2019_summary.csv\").set_index(\"Sample Accession\")"
   ]
  },
  {
   "cell_type": "markdown",
   "metadata": {},
   "source": [
    "#### here I perform the most scuffed join of all time\n",
    "I join everything on number of bases because that's the only column that both have, and is entirely unique. Good news: it works?"
   ]
  },
  {
   "cell_type": "code",
   "execution_count": null,
   "metadata": {},
   "outputs": [],
   "source": [
    "HMP_2019_runInfo = HMP_2019_runInfo[[\"Run\"]]\n",
    "\n",
    "HMP_2019_summary = HMP_2019_summary.merge(HMP_2019_runInfo, how=\"left\", left_index=True, right_index=True)\n",
    "\n",
    "HMP_2019_summary = HMP_2019_summary.set_index(\"Total Bases\")\n",
    "\n",
    "HMP_2019_summary = HMP_2019_summary[[\"Run\"]]"
   ]
  },
  {
   "cell_type": "code",
   "execution_count": null,
   "metadata": {},
   "outputs": [],
   "source": [
    "temp = pd.read_csv(\"data_curated_microbiome/nayfach_asnicar_hmp_metadata.csv\").set_index(\"number_bases\")\n",
    "\n",
    "temp = temp.merge(HMP_2019_summary, how=\"left\", left_index=True, right_index=True)"
   ]
  },
  {
   "cell_type": "code",
   "execution_count": null,
   "metadata": {},
   "outputs": [],
   "source": [
    "accession = []\n",
    "\n",
    "ncbi_list = list(temp.NCBI_accession)\n",
    "\n",
    "run_list = list(temp.Run)\n",
    "\n",
    "for i in range(len(ncbi_list)):\n",
    "\n",
    "    if type(ncbi_list[i]) == str:\n",
    "        value = ncbi_list[i]\n",
    "    elif type(run_list[i]) == str:\n",
    "        value = run_list[i]\n",
    "        \n",
    "    accession.append(value)\n",
    "\n",
    "temp[\"NCBI_accession\"] = accession\n",
    "\n",
    "HMP_data = temp.loc[temp[\"study_name\"] == \"HMP_2019_ibdmdb\"]"
   ]
  },
  {
   "cell_type": "code",
   "execution_count": null,
   "metadata": {},
   "outputs": [],
   "source": [
    "HMP_list = HMP_data.NCBI_accession\n",
    "\n",
    "with open(r'HMP_accessions.txt', 'w') as fp:\n",
    "    for item in HMP_list:\n",
    "        # write each item on a new line\n",
    "        fp.write(\"%s\\n\" % item)\n",
    "    print('Done')"
   ]
  }
 ],
 "metadata": {
  "kernelspec": {
   "display_name": "Python 3.11.4 ('pathway_abundance')",
   "language": "python",
   "name": "python3"
  },
  "language_info": {
   "codemirror_mode": {
    "name": "ipython",
    "version": 3
   },
   "file_extension": ".py",
   "mimetype": "text/x-python",
   "name": "python",
   "nbconvert_exporter": "python",
   "pygments_lexer": "ipython3",
   "version": "3.11.4"
  },
  "orig_nbformat": 4,
  "vscode": {
   "interpreter": {
    "hash": "fe830e55702ed5d1a418e856f39da784e7da7ed40fb81b27836f6ec2261e36fe"
   }
  }
 },
 "nbformat": 4,
 "nbformat_minor": 2
}
